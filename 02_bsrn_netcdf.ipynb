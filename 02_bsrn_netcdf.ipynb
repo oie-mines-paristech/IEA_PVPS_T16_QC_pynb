{
 "cells": [
  {
   "cell_type": "markdown",
   "metadata": {},
   "source": [
    "# Reading and visualizing a NetCDF file with SURFRAD solar radiation data\n",
    "\n",
    "*Date: April 29th, 2020*\n",
    "\n",
    "## Overview\n",
    "This tutorial will demonstrate how to open and manipulate a NetCDF file from a thredds data server, containing solar radiation data from the BSRN network.\n",
    "\n",
    "NetCDF is a file format for storing array oriented scientific data, such as solar radiation, temperature or aerosol optical depth. The format has a number of advantages over other common file formats, including the standardized integration of metadata allowing for the data to be self-describin and easy access of a subset of a larger dataset.\n",
    "\n",
    "## Source data\n",
    "The data in this tutorial is from the SURFRAD (https://gml.noaa.gov/grad/surfrad/), which is an American network of high quality stations measuring solar and atmospheric radiation. Currently, there are 7 stations in operation, measuring at a minimum: global horizontal irradiance, diffuse horizontal irradiance and direct normal irradiance with a 1 minute time step.\n",
    "\n",
    "SURFRAD and other data are available as NetCDF files on a thredds server hosted at [webservice-energy.org](http://webservice-energy.org). The naming conventions follow the [climate and forecast conventions](https://www.unidata.ucar.edu/software/netcdf/conventions.html) in order to be interoperable. "
   ]
  },
  {
   "cell_type": "markdown",
   "metadata": {},
   "source": [
    "<br>\n",
    "\n",
    "# Import python modules\n",
    "***\n",
    "First import the necessary modules:"
   ]
  },
  {
   "cell_type": "code",
   "execution_count": 3,
   "metadata": {
    "ExecuteTime": {
     "end_time": "2022-05-04T09:45:33.477804Z",
     "start_time": "2022-05-04T09:45:33.466404Z"
    }
   },
   "outputs": [],
   "source": [
    "import netCDF4 as nc\n",
    "import datetime as dt\n",
    "import pandas as pd\n",
    "import numpy as np\n",
    "import sg2\n",
    "import sys\n",
    "from IPython import display\n",
    "sys.path.append('./python_functions')"
   ]
  },
  {
   "cell_type": "markdown",
   "metadata": {},
   "source": [
    "# Visualisation of the content of the TDS server\n",
    "\n",
    "Check the content of the catalog at the following URL :\n",
    "\n",
    "[http://tds.webservice-energy.org/thredds/catalog/surfrad-stations/catalog.html](http://tds.webservice-energy.org/thredds/catalog/surfrad-stations/catalog.html)"
   ]
  },
  {
   "cell_type": "markdown",
   "metadata": {},
   "source": [
    "<br>\n",
    "\n",
    "# Read NetCDF file\n",
    "***\n",
    "As an example, the data from the BSRN station Payern is downloaded from the thredds server using the *netCDF4* Python library."
   ]
  },
  {
   "cell_type": "code",
   "execution_count": 5,
   "metadata": {
    "ExecuteTime": {
     "end_time": "2022-05-04T09:49:30.816380Z",
     "start_time": "2022-05-04T09:49:30.622024Z"
    }
   },
   "outputs": [
    {
     "name": "stdout",
     "output_type": "stream",
     "text": [
      "<class 'netCDF4._netCDF4.Dataset'>\n",
      "root group (NETCDF3_CLASSIC data model, file format DAP2):\n",
      "    description: Archive of solar radiation networks worldwide provided by the Webservice-Energy initiative supported by MINES Paris PSL. Files are provided as NetCDF file format with the support of a Thredds Data Server.\n",
      "    title: Timeseries of NOAA's Surface Radiation Budget Network (SURFRAD) (SURFRAD)\n",
      "    keywords: meteorology, station, time, Earth Science > Atmosphere > Atmospheric Radiation > Incoming Solar Radiation, Earth Science > Atmosphere > Atmospheric Temperature > Surface Temperature > Air Temperature, Earth Science > Atmosphere > Atmospheric Pressure > Sea Level Pressure\n",
      "    keywords_vocabulary: GCMD Science Keywords\n",
      "    keywords_vocabulary_url: https://gcmd.earthdata.nasa.gov/static/kms/\n",
      "    contact: Lionel MENARD, Raphael JOLIVET, Yves-Marie SAINT-DRENAN, Philippe BLANC\n",
      "    institution:  MINES Paris PSL\n",
      "    record: Basic measurements (global irradiance, direct irradiance, diffuse irradiance, air temperature, relative humidity, pressure)\n",
      "    Network_ShortName: SURFRAD\n",
      "    Network_Name: NOAA's Surface Radiation Budget Network (SURFRAD)\n",
      "    Network_Region: USA\n",
      "    Network_TimeResolution: 1 min\n",
      "    Network_Description: https://gml.noaa.gov/grad/surfrad/sitepage.html \n",
      "    Network_References: https://doi.org/10.1175/1520-0477(1996)077<2857:TNISIS>2.0.CO;2\n",
      "    Network_License:  -\n",
      "    Network_Contact: https://gml.noaa.gov/about/contacts.html\n",
      "    Station_ID: BON\n",
      "    Station_Name: Bondville, Illinois\n",
      "    Station_Latitude: 40.05\n",
      "    Station_Longitude: -88.37\n",
      "    Station_Elevation: 213\n",
      "    Station_LocalTimeZone: UTC-05:00\n",
      "    Station_Address: 1165, County Road 500 East\n",
      "    Station_Country: United States\n",
      "    Station_KoeppenGeigerClimate: Dfa\n",
      "    Station_TimeResolution: 1\n",
      "    featureType: TimeSeries\n",
      "    cdm_data_type: TimeSeries\n",
      "    Conventions: CF-1.6\n",
      "    cdm_timeseries_variables: station_name,latitude,longitude\n",
      "    creation_time: 2022-04-13T15:56:23.468163\n",
      "    update_time: 2022-04-13T15:56:23.468163\n",
      "    Station_DataBegin: 1995-01-01\n",
      "    DODS.strlen: 10\n",
      "    DODS.dimName: ncshort\n",
      "    DODS_EXTRA.Unlimited_Dimension: time\n",
      "    dimensions(sizes): time(14284800), maxStrlen64(64)\n",
      "    variables(dimensions): |S1 station_name(maxStrlen64), float32 latitude(), float32 longitude(), float32 elevation(), int32 Time(time), float32 GHI(time), float32 DHI(time), float32 BNI(time), float32 T2(time), float32 WS(time), float32 WD(time)\n",
      "    groups: \n",
      "CPU times: user 10.3 ms, sys: 12.5 ms, total: 22.8 ms\n",
      "Wall time: 184 ms\n"
     ]
    }
   ],
   "source": [
    "%%time\n",
    "ID='BON'\n",
    "thredds_url = 'http://tds.webservice-energy.org/thredds/dodsC/surfrad-stations/'\n",
    "filename = 'SURFRAD-{}.nc'.format(ID) # filename for the specific measurements station\n",
    "\n",
    "data_nc = nc.Dataset(\"[FillMismatch]\"+thredds_url+filename) # open the NetCDF file from the server (without downloading the data!)\n",
    "print(data_nc)"
   ]
  },
  {
   "cell_type": "markdown",
   "metadata": {},
   "source": [
    "<br>\n",
    "\n",
    "The NetCDF file contains a number of variables:"
   ]
  },
  {
   "cell_type": "code",
   "execution_count": 6,
   "metadata": {
    "ExecuteTime": {
     "end_time": "2022-05-04T09:49:36.571506Z",
     "start_time": "2022-05-04T09:49:36.558775Z"
    }
   },
   "outputs": [
    {
     "data": {
      "text/plain": [
       "dict_keys(['station_name', 'latitude', 'longitude', 'elevation', 'Time', 'GHI', 'DHI', 'BNI', 'T2', 'WS', 'WD'])"
      ]
     },
     "execution_count": 6,
     "metadata": {},
     "output_type": "execute_result"
    }
   ],
   "source": [
    "data_nc.variables.keys()"
   ]
  },
  {
   "cell_type": "markdown",
   "metadata": {},
   "source": [
    "<br>\n",
    "Each variable contains metadata describing the variable. For example, for the variable GHI, the metadata gives the fullname (Global Horizontal Irradiance), the unit (W/m$^2$) and gives a comment that \"GHI is set to 0 for SZA >= 97 deg\"."
   ]
  },
  {
   "cell_type": "code",
   "execution_count": 7,
   "metadata": {
    "ExecuteTime": {
     "end_time": "2022-05-04T09:49:37.995901Z",
     "start_time": "2022-05-04T09:49:37.984837Z"
    }
   },
   "outputs": [
    {
     "data": {
      "text/plain": [
       "<class 'netCDF4._netCDF4.Variable'>\n",
       "float32 GHI(time)\n",
       "    parameter: Short-wave downward (GLOBAL) radiation\n",
       "    long_name: Global Horizontal Irradiance\n",
       "    standard_name: surface_downwelling_shortwave_flux_in_air\n",
       "    abbreviation: SWD\n",
       "    units: W m-2\n",
       "    Range_LowerBoundary: -10.0\n",
       "    Range_UpperBoundary: 3000\n",
       "    Description: global, mean\n",
       "    least_significant_digit: 1\n",
       "    FirstData: 1997-05-11T00:00\n",
       "    LastData: 2022-02-27T23:59\n",
       "    _ChunkSizes: 1024\n",
       "unlimited dimensions: time\n",
       "current shape = (14284800,)\n",
       "filling off"
      ]
     },
     "execution_count": 7,
     "metadata": {},
     "output_type": "execute_result"
    }
   ],
   "source": [
    "data_nc.variables['GHI']"
   ]
  },
  {
   "cell_type": "markdown",
   "metadata": {},
   "source": [
    "<br>\n",
    "\n",
    "Furthermore, this dataset contains three variables related to the location of the BSRN station: latitude, longitude and elevation."
   ]
  },
  {
   "cell_type": "code",
   "execution_count": 8,
   "metadata": {
    "ExecuteTime": {
     "end_time": "2022-05-04T09:49:39.431938Z",
     "start_time": "2022-05-04T09:49:39.353932Z"
    }
   },
   "outputs": [
    {
     "name": "stdout",
     "output_type": "stream",
     "text": [
      "Latitude = 40.04999923706055°N\n",
      "Longitude = -88.37000274658203°E\n",
      "Elevation = 213.0 m\n"
     ]
    }
   ],
   "source": [
    "lat  = data_nc.variables['latitude'][:].data\n",
    "lon  = data_nc.variables['longitude'][:].data\n",
    "elev = data_nc.variables['elevation'][:].data\n",
    "print('Latitude = {}°N\\nLongitude = {}°E\\nElevation = {} m'.format(lat, lon, elev))"
   ]
  },
  {
   "cell_type": "markdown",
   "metadata": {},
   "source": [
    "<br>\n",
    "Next, the time series data is extracted and saved to individual variables. \n",
    "For demonstration purposes, only measurement data for the first three years are extracted."
   ]
  },
  {
   "cell_type": "code",
   "execution_count": 17,
   "metadata": {
    "ExecuteTime": {
     "end_time": "2022-05-04T10:21:03.660531Z",
     "start_time": "2022-05-04T10:20:52.300117Z"
    }
   },
   "outputs": [
    {
     "name": "stdout",
     "output_type": "stream",
     "text": [
      "CPU times: user 9.75 s, sys: 120 ms, total: 9.87 s\n",
      "Wall time: 11.4 s\n"
     ]
    },
    {
     "data": {
      "text/html": [
       "<div>\n",
       "<style scoped>\n",
       "    .dataframe tbody tr th:only-of-type {\n",
       "        vertical-align: middle;\n",
       "    }\n",
       "\n",
       "    .dataframe tbody tr th {\n",
       "        vertical-align: top;\n",
       "    }\n",
       "\n",
       "    .dataframe thead th {\n",
       "        text-align: right;\n",
       "    }\n",
       "</style>\n",
       "<table border=\"1\" class=\"dataframe\">\n",
       "  <thead>\n",
       "    <tr style=\"text-align: right;\">\n",
       "      <th></th>\n",
       "      <th>GHI</th>\n",
       "      <th>BNI</th>\n",
       "      <th>DHI</th>\n",
       "    </tr>\n",
       "  </thead>\n",
       "  <tbody>\n",
       "    <tr>\n",
       "      <th>2019-03-01 00:00:00</th>\n",
       "      <td>-1.3</td>\n",
       "      <td>0.4</td>\n",
       "      <td>0.1</td>\n",
       "    </tr>\n",
       "    <tr>\n",
       "      <th>2019-03-01 00:01:00</th>\n",
       "      <td>-1.3</td>\n",
       "      <td>0.4</td>\n",
       "      <td>-0.2</td>\n",
       "    </tr>\n",
       "    <tr>\n",
       "      <th>2019-03-01 00:02:00</th>\n",
       "      <td>-1.3</td>\n",
       "      <td>0.4</td>\n",
       "      <td>-0.3</td>\n",
       "    </tr>\n",
       "    <tr>\n",
       "      <th>2019-03-01 00:03:00</th>\n",
       "      <td>-1.3</td>\n",
       "      <td>0.4</td>\n",
       "      <td>-0.4</td>\n",
       "    </tr>\n",
       "    <tr>\n",
       "      <th>2019-03-01 00:04:00</th>\n",
       "      <td>-1.3</td>\n",
       "      <td>0.4</td>\n",
       "      <td>-0.4</td>\n",
       "    </tr>\n",
       "  </tbody>\n",
       "</table>\n",
       "</div>"
      ],
      "text/plain": [
       "                     GHI  BNI  DHI\n",
       "2019-03-01 00:00:00 -1.3  0.4  0.1\n",
       "2019-03-01 00:01:00 -1.3  0.4 -0.2\n",
       "2019-03-01 00:02:00 -1.3  0.4 -0.3\n",
       "2019-03-01 00:03:00 -1.3  0.4 -0.4\n",
       "2019-03-01 00:04:00 -1.3  0.4 -0.4"
      ]
     },
     "execution_count": 17,
     "metadata": {},
     "output_type": "execute_result"
    }
   ],
   "source": [
    "%%time\n",
    "\n",
    "NB_SAMPLES=60*24*365*3 # 3 years of data\n",
    "\n",
    "# loading and conversion of the time vector \n",
    "time=pd.to_datetime(\n",
    "    data_nc.variables['Time'][-NB_SAMPLES:], unit='s', origin=pd.Timestamp('1970-01-01'))\n",
    "\n",
    "# download measurements of the three components of the solar irradiance\n",
    "GHI = data_nc.variables['GHI'][-NB_SAMPLES:].filled(np.nan)\n",
    "DHI = data_nc.variables['DHI'][-NB_SAMPLES:].filled(np.nan)\n",
    "BNI = data_nc.variables['BNI'][-NB_SAMPLES:].filled(np.nan)\n",
    "\n",
    "df = pd.DataFrame({'GHI': GHI,'BNI': BNI,'DHI':DHI}, index=time)\n",
    "\n",
    "df.head()"
   ]
  },
  {
   "cell_type": "markdown",
   "metadata": {},
   "source": [
    "# 3: Calculation of sun position\n",
    "***\n",
    "\n",
    "In this tutorial, the sun position will be calculated using the wps_SG2 webservice available through the python package *solargeometry*. A request is sent to the webservice, which carries out the calculations and returns the results. For longer time series, this method is significantly faster than calculating the sun position locally using, for example, the pvlib-python library.\n",
    "\n",
    "\n",
    "output\n",
    "    The output is a python list of fields identified by python strings.  Each\n",
    "    given fields will be computed and provided in the output o as follow :\n",
    "    *\"field.name\"* will be *o.field.name*.  Possible fields and there output\n",
    "    type are:\n",
    "\n",
    "    * \"geoc.ut\" **timestamp** as array of datetime64[ms]\n",
    "    * \"geoc.tt\" **terrestrial time** as array of datetime64[ms]\n",
    "    * \"geoc.R\" **Radius Sun-Earth** in astronomical unit (au) as array of double\n",
    "    * \"geoc.L\" **Heliocentric Earth true longitude** in radians as array of double\n",
    "    * \"geoc.delta\" **Geocentric declination** in radians as array of double\n",
    "    * \"geoc.EOT\" **Equation of Time: difference between apparent solar time and mean solar time** in radians as array of double (to be multiplied by pi/12 for hourly values)\n",
    "    * \"geoc.Theta_a\" **Geocentric Earth true longitude** in radians as array of double\n",
    "    * \"geoc.epsilon\" **Earth true obliquity** in radians as array of double\n",
    "    * \"geoc.nu\" **Apparent sideral time** in radians as array of double\n",
    "    * \"geoc.r_alpha\" **Geocentric right ascension** in radians as array of double\n",
    "    * \"geoc.Delta_psi\" **Nutation in Geocentric Sun longitude** in radians as array of double\n",
    "    * \"gp.lambda\" **Longitude** in radians as array of double\n",
    "    * \"gp.phi\" **Latitude** in radians as array of double\n",
    "    * \"gp.u\" **phi geocentric**\n",
    "    * \"gp.x\"\n",
    "    * \"gp.y\"\n",
    "    * \"topoc.delta\" **Topocentric sun declination** in radians as array of double\n",
    "    * \"topoc.alpha_S\" **Topocentric sun azimuth** in radians as array of double\n",
    "    * \"topoc.gamma_S0\" **Topocentric sun elevation angle without correction of atm. refraction.** in radians as array of double\n",
    "    * \"topoc.omega\" **Topocentric local hour angle** in radians as array of double\n",
    "    * \"topoc.r_alpha\" **Topocentric right sun ascension** in radians as array of double\n",
    "    * \"topoc.toa_hi\" **Top of atmosphere horizontal irradiance** in W.m^{-2} as array of double\n",
    "    * \"topoc.toa_ni\" **Top of atmosphere normal irradiance** in W.m^{-2} as array of double\n",
    "\n",
    "    The abreviations geoc and topoc stand for respectively geocentric and topocentric.\n",
    "\n",
    "    Moreover the size of arrays of geoc.* fields will be (M,), the size of\n",
    "    arrays of gp.* fields will be (N,) and the size of arrays of topoc.* will\n",
    "    be (N,M).\n",
    "\n",
    "\n",
    "This library can be installed via pip:  \"pip install sg2 -f https://pip.oie-lab.net/python-devel/ \"\n"
   ]
  },
  {
   "cell_type": "code",
   "execution_count": 18,
   "metadata": {
    "ExecuteTime": {
     "end_time": "2022-05-04T10:21:34.271820Z",
     "start_time": "2022-05-04T10:21:33.482897Z"
    }
   },
   "outputs": [
    {
     "name": "stdout",
     "output_type": "stream",
     "text": [
      "namespace(geoc=namespace(EOT=array([244.98979904, 244.98979961, 244.98980019, ..., 263.83887605,\n",
      "       263.8388766 , 263.83887715])), gp=namespace(), topoc=namespace(alpha_S=array([[2.49918454, 2.4948336 , 2.49048262, ..., 2.51279869, 2.50844836,\n",
      "        2.50409799]]), delta=array([[-0.13572827, -0.13572368, -0.13571908, ..., -0.1405939 ,\n",
      "        -0.14058932, -0.14058475]]), gamma_S0=array([[0.1129682 , 0.1130382 , 0.11310862, ..., 0.11760394, 0.11767259,\n",
      "        0.11774168]]), omega=array([[90123.51299526, 90123.51735915, 90123.52172304, ...,\n",
      "        97022.43689043, 97022.4412543 , 97022.44561817]]), r_alpha=array([[-0.32061341, -0.32060203, -0.32059066, ..., -0.33265966,\n",
      "        -0.33264826, -0.33263686]]), toa_hi=array([[156.43894042, 156.53540035, 156.63245375, ..., 162.89569924,\n",
      "        162.99029448, 163.08548908]]), toa_ni=array([[1387.75491295, 1387.75443118, 1387.75394941, ..., 1388.31912959,\n",
      "        1388.31865731, 1388.31818502]])))\n",
      "CPU times: user 691 ms, sys: 96.2 ms, total: 787 ms\n",
      "Wall time: 786 ms\n"
     ]
    }
   ],
   "source": [
    "%%time\n",
    "\n",
    "gp = [lat, lon, elev]\n",
    "\n",
    "p = sg2.sun_position([gp], df.index.values,\n",
    "                     [\"geoc.EOT\",\n",
    "                      \"topoc.omega\",\n",
    "                      \"topoc.gamma_S0\",\n",
    "                      \"topoc.alpha_S\",\n",
    "                      \"topoc.delta\",\n",
    "                      \"topoc.r_alpha\",\n",
    "                      \"topoc.toa_hi\",\n",
    "                      \"topoc.toa_ni\"])\n",
    "print(p)"
   ]
  },
  {
   "cell_type": "markdown",
   "metadata": {},
   "source": [
    "Calcul des heures de lever et de coucher de soleil avec la librairie sg2.\n",
    "\n",
    "\n",
    "def sun_rise(ggeopoint, timestamp)\n",
    "- input geopoints: (N,3) of double each row is lon in degrees, lat in degrees, altitude in metter.\n",
    "  - input timespamp: (M,) of double or datetime64. the requested timestamp in ut\n",
    "  - output: (N,M,3) datetime64[ms] with repectively sun rise, sun transit and\n",
    "sun set in ut.\n",
    " "
   ]
  },
  {
   "cell_type": "code",
   "execution_count": 19,
   "metadata": {
    "ExecuteTime": {
     "end_time": "2022-05-04T10:21:51.159363Z",
     "start_time": "2022-05-04T10:21:49.915713Z"
    }
   },
   "outputs": [],
   "source": [
    "SR=sg2.sun_rise([gp], df.index.values)\n"
   ]
  },
  {
   "cell_type": "code",
   "execution_count": 32,
   "metadata": {
    "ExecuteTime": {
     "end_time": "2022-05-04T10:26:28.455260Z",
     "start_time": "2022-05-04T10:26:28.444893Z"
    }
   },
   "outputs": [
    {
     "name": "stdout",
     "output_type": "stream",
     "text": [
      "(1576800, 1, 3)\n"
     ]
    },
    {
     "data": {
      "text/plain": [
       "\"\\nSR_h \\tSS_h\\ntzinfo = pytz.timezone('utc')\\n\\ndate_begin = dt.datetime(time.min().year, 1, 1, 0, 0, tzinfo=tzinfo)\\ndate_end = dt.datetime(time.max().year, 12, 31, 23, 59, tzinfo=tzinfo)\\n\\n\\n\\nSG2 = wps.wps_SG2(location, date_begin, date_end, 1/60.)\\nSG2.head()\\n\""
      ]
     },
     "execution_count": 32,
     "metadata": {},
     "output_type": "execute_result"
    }
   ],
   "source": [
    "print(SR.shape)\n",
    "#SG2\n",
    "\n",
    "'''\n",
    "SR_h \tSS_h\n",
    "tzinfo = pytz.timezone('utc')\n",
    "\n",
    "date_begin = dt.datetime(time.min().year, 1, 1, 0, 0, tzinfo=tzinfo)\n",
    "date_end = dt.datetime(time.max().year, 12, 31, 23, 59, tzinfo=tzinfo)\n",
    "\n",
    "\n",
    "\n",
    "SG2 = wps.wps_SG2(location, date_begin, date_end, 1/60.)\n",
    "SG2.head()\n",
    "'''"
   ]
  },
  {
   "cell_type": "markdown",
   "metadata": {},
   "source": [
    "\n",
    "# 4: Merge data into a single Pandas DataFrame and saving data\n",
    "***\n",
    "\n",
    "The final step is to combine the BSRN measurement time series and the sun position time series into one Pandas DataFrame."
   ]
  },
  {
   "cell_type": "code",
   "execution_count": 23,
   "metadata": {
    "ExecuteTime": {
     "end_time": "2022-05-04T10:22:40.139195Z",
     "start_time": "2022-05-04T10:22:39.999214Z"
    }
   },
   "outputs": [
    {
     "name": "stdout",
     "output_type": "stream",
     "text": [
      "CPU times: user 41.6 ms, sys: 84.1 ms, total: 126 ms\n",
      "Wall time: 125 ms\n"
     ]
    },
    {
     "data": {
      "text/html": [
       "<div>\n",
       "<style scoped>\n",
       "    .dataframe tbody tr th:only-of-type {\n",
       "        vertical-align: middle;\n",
       "    }\n",
       "\n",
       "    .dataframe tbody tr th {\n",
       "        vertical-align: top;\n",
       "    }\n",
       "\n",
       "    .dataframe thead th {\n",
       "        text-align: right;\n",
       "    }\n",
       "</style>\n",
       "<table border=\"1\" class=\"dataframe\">\n",
       "  <thead>\n",
       "    <tr style=\"text-align: right;\">\n",
       "      <th></th>\n",
       "      <th>GHI</th>\n",
       "      <th>BNI</th>\n",
       "      <th>DHI</th>\n",
       "      <th>DELTA</th>\n",
       "      <th>OMEGA</th>\n",
       "      <th>EOT</th>\n",
       "      <th>THETA_Z</th>\n",
       "      <th>GAMMA_S0</th>\n",
       "      <th>ALPHA_S</th>\n",
       "      <th>R</th>\n",
       "      <th>TOA</th>\n",
       "      <th>TOANI</th>\n",
       "      <th>SR_h</th>\n",
       "      <th>SS_h</th>\n",
       "    </tr>\n",
       "  </thead>\n",
       "  <tbody>\n",
       "    <tr>\n",
       "      <th>2019-03-01 00:00:00</th>\n",
       "      <td>-1.3</td>\n",
       "      <td>0.4</td>\n",
       "      <td>0.1</td>\n",
       "      <td>-0.135728</td>\n",
       "      <td>90123.512995</td>\n",
       "      <td>244.989799</td>\n",
       "      <td>1.457828</td>\n",
       "      <td>0.112968</td>\n",
       "      <td>2.499185</td>\n",
       "      <td>-0.320613</td>\n",
       "      <td>156.438940</td>\n",
       "      <td>1387.754913</td>\n",
       "      <td>NaT</td>\n",
       "      <td>NaT</td>\n",
       "    </tr>\n",
       "    <tr>\n",
       "      <th>2019-03-01 00:01:00</th>\n",
       "      <td>-1.3</td>\n",
       "      <td>0.4</td>\n",
       "      <td>-0.2</td>\n",
       "      <td>-0.135724</td>\n",
       "      <td>90123.517359</td>\n",
       "      <td>244.989800</td>\n",
       "      <td>1.457758</td>\n",
       "      <td>0.113038</td>\n",
       "      <td>2.494834</td>\n",
       "      <td>-0.320602</td>\n",
       "      <td>156.535400</td>\n",
       "      <td>1387.754431</td>\n",
       "      <td>NaT</td>\n",
       "      <td>NaT</td>\n",
       "    </tr>\n",
       "    <tr>\n",
       "      <th>2019-03-01 00:02:00</th>\n",
       "      <td>-1.3</td>\n",
       "      <td>0.4</td>\n",
       "      <td>-0.3</td>\n",
       "      <td>-0.135719</td>\n",
       "      <td>90123.521723</td>\n",
       "      <td>244.989800</td>\n",
       "      <td>1.457688</td>\n",
       "      <td>0.113109</td>\n",
       "      <td>2.490483</td>\n",
       "      <td>-0.320591</td>\n",
       "      <td>156.632454</td>\n",
       "      <td>1387.753949</td>\n",
       "      <td>NaT</td>\n",
       "      <td>NaT</td>\n",
       "    </tr>\n",
       "    <tr>\n",
       "      <th>2019-03-01 00:03:00</th>\n",
       "      <td>-1.3</td>\n",
       "      <td>0.4</td>\n",
       "      <td>-0.4</td>\n",
       "      <td>-0.135714</td>\n",
       "      <td>90123.526087</td>\n",
       "      <td>244.989801</td>\n",
       "      <td>1.457617</td>\n",
       "      <td>0.113179</td>\n",
       "      <td>2.486132</td>\n",
       "      <td>-0.320579</td>\n",
       "      <td>156.730099</td>\n",
       "      <td>1387.753468</td>\n",
       "      <td>NaT</td>\n",
       "      <td>NaT</td>\n",
       "    </tr>\n",
       "    <tr>\n",
       "      <th>2019-03-01 00:04:00</th>\n",
       "      <td>-1.3</td>\n",
       "      <td>0.4</td>\n",
       "      <td>-0.4</td>\n",
       "      <td>-0.135710</td>\n",
       "      <td>90123.530451</td>\n",
       "      <td>244.989801</td>\n",
       "      <td>1.457546</td>\n",
       "      <td>0.113251</td>\n",
       "      <td>2.481781</td>\n",
       "      <td>-0.320568</td>\n",
       "      <td>156.828333</td>\n",
       "      <td>1387.752986</td>\n",
       "      <td>NaT</td>\n",
       "      <td>NaT</td>\n",
       "    </tr>\n",
       "  </tbody>\n",
       "</table>\n",
       "</div>"
      ],
      "text/plain": [
       "                     GHI  BNI  DHI     DELTA         OMEGA         EOT  \\\n",
       "2019-03-01 00:00:00 -1.3  0.4  0.1 -0.135728  90123.512995  244.989799   \n",
       "2019-03-01 00:01:00 -1.3  0.4 -0.2 -0.135724  90123.517359  244.989800   \n",
       "2019-03-01 00:02:00 -1.3  0.4 -0.3 -0.135719  90123.521723  244.989800   \n",
       "2019-03-01 00:03:00 -1.3  0.4 -0.4 -0.135714  90123.526087  244.989801   \n",
       "2019-03-01 00:04:00 -1.3  0.4 -0.4 -0.135710  90123.530451  244.989801   \n",
       "\n",
       "                      THETA_Z  GAMMA_S0   ALPHA_S         R         TOA  \\\n",
       "2019-03-01 00:00:00  1.457828  0.112968  2.499185 -0.320613  156.438940   \n",
       "2019-03-01 00:01:00  1.457758  0.113038  2.494834 -0.320602  156.535400   \n",
       "2019-03-01 00:02:00  1.457688  0.113109  2.490483 -0.320591  156.632454   \n",
       "2019-03-01 00:03:00  1.457617  0.113179  2.486132 -0.320579  156.730099   \n",
       "2019-03-01 00:04:00  1.457546  0.113251  2.481781 -0.320568  156.828333   \n",
       "\n",
       "                           TOANI SR_h SS_h  \n",
       "2019-03-01 00:00:00  1387.754913  NaT  NaT  \n",
       "2019-03-01 00:01:00  1387.754431  NaT  NaT  \n",
       "2019-03-01 00:02:00  1387.753949  NaT  NaT  \n",
       "2019-03-01 00:03:00  1387.753468  NaT  NaT  \n",
       "2019-03-01 00:04:00  1387.752986  NaT  NaT  "
      ]
     },
     "execution_count": 23,
     "metadata": {},
     "output_type": "execute_result"
    }
   ],
   "source": [
    "%%time\n",
    "df = pd.DataFrame({'GHI': GHI,\n",
    "                   'BNI': BNI,\n",
    "                   'DHI':DHI,\n",
    "                   'DELTA':np.squeeze(p.topoc.delta),\n",
    "                   'OMEGA':np.squeeze(p.topoc.omega),\n",
    "                   'EOT':np.squeeze(p.geoc.EOT),\n",
    "                   'THETA_Z':np.squeeze(np.pi/2-p.topoc.gamma_S0),\n",
    "                   'GAMMA_S0':np.squeeze(p.topoc.gamma_S0),\n",
    "                   'ALPHA_S':np.squeeze(p.topoc.alpha_S),\n",
    "                   'R':np.squeeze(p.topoc.r_alpha),\n",
    "                   'TOA':np.squeeze(p.topoc.toa_hi),\n",
    "                   'TOANI':np.squeeze(p.topoc.toa_ni),\n",
    "                   'SR_h':SR[:,0,0],\n",
    "                   'SS_h':SR[:,0,2],\n",
    "                  }, index=time)\n",
    "df.head()"
   ]
  },
  {
   "cell_type": "code",
   "execution_count": 25,
   "metadata": {
    "ExecuteTime": {
     "end_time": "2022-05-04T10:23:12.142297Z",
     "start_time": "2022-05-04T10:23:07.341939Z"
    }
   },
   "outputs": [
    {
     "data": {
      "text/plain": [
       "<AxesSubplot:>"
      ]
     },
     "execution_count": 25,
     "metadata": {},
     "output_type": "execute_result"
    },
    {
     "data": {
      "image/png": "[encoded data removed]",
      "text/plain": [
       "<Figure size 432x288 with 1 Axes>"
      ]
     },
     "metadata": {
      "needs_background": "light"
     },
     "output_type": "display_data"
    }
   ],
   "source": [
    "df['GHI'].plot()"
   ]
  },
  {
   "cell_type": "markdown",
   "metadata": {},
   "source": [
    "<br>\n",
    "It is possible to save a DataFrame in numerous formats. Here it is shown how to save it as a *Pandas pickle* which we use in the following tutorials."
   ]
  },
  {
   "cell_type": "code",
   "execution_count": 70,
   "metadata": {},
   "outputs": [
    {
     "name": "stdout",
     "output_type": "stream",
     "text": [
      "Wall time: 393 ms\n"
     ]
    }
   ],
   "source": [
    "#%%time\n",
    "#df.to_pickle('./tmpData/{}_data.pkl'.format(ID)) # save the DataFrame in the Pandas pickle format\n",
    "\n",
    "\n",
    "# todo: include the name and information of the station in the saved file."
   ]
  },
  {
   "cell_type": "markdown",
   "metadata": {},
   "source": [
    "<br><br>\n",
    "\n",
    "***\n",
    "Once all the data is combined into one DataFrame, manipulation and plotting become relatively easy tasks.\n",
    "\n",
    "As an example, the first month of the GHI, DHI, and BNI is plotted with the original 1 minute resolution:"
   ]
  },
  {
   "cell_type": "code",
   "execution_count": 30,
   "metadata": {
    "ExecuteTime": {
     "end_time": "2022-05-04T10:25:24.412988Z",
     "start_time": "2022-05-04T10:25:16.944569Z"
    }
   },
   "outputs": [
    {
     "data": {
      "image/png": "[encoded data removed]",
      "text/plain": [
       "<Figure size 864x360 with 3 Axes>"
      ]
     },
     "metadata": {
      "needs_background": "light"
     },
     "output_type": "display_data"
    }
   ],
   "source": [
    "_ = df.loc['2020-05-01':'2021-05-01', ['GHI','DHI','BNI']].plot(figsize=(12,5), subplots=True)"
   ]
  },
  {
   "cell_type": "markdown",
   "metadata": {},
   "source": [
    "Plotting the monthly average irradiance as a bar chart, can be done in one line as well:"
   ]
  },
  {
   "cell_type": "code",
   "execution_count": 31,
   "metadata": {
    "ExecuteTime": {
     "end_time": "2022-05-04T10:25:30.684888Z",
     "start_time": "2022-05-04T10:25:30.073925Z"
    }
   },
   "outputs": [
    {
     "data": {
      "image/png": "[encoded data removed]",
      "text/plain": [
       "<Figure size 864x432 with 3 Axes>"
      ]
     },
     "metadata": {
      "needs_background": "light"
     },
     "output_type": "display_data"
    }
   ],
   "source": [
    "_ = df[['GHI','DHI','BNI']].resample('1M').mean().plot(figsize=(12,6), kind='bar', subplots=True)"
   ]
  },
  {
   "cell_type": "code",
   "execution_count": null,
   "metadata": {},
   "outputs": [],
   "source": []
  }
 ],
 "metadata": {
  "kernelspec": {
   "display_name": "Python 3 (ipykernel)",
   "language": "python",
   "name": "python3"
  },
  "language_info": {
   "codemirror_mode": {
    "name": "ipython",
    "version": 3
   },
   "file_extension": ".py",
   "mimetype": "text/x-python",
   "name": "python",
   "nbconvert_exporter": "python",
   "pygments_lexer": "ipython3",
   "version": "3.7.13"
  },
  "toc": {
   "base_numbering": 1,
   "nav_menu": {},
   "number_sections": true,
   "sideBar": true,
   "skip_h1_title": false,
   "title_cell": "Table of Contents",
   "title_sidebar": "Contents",
   "toc_cell": false,
   "toc_position": {},
   "toc_section_display": true,
   "toc_window_display": false
  },
  "varInspector": {
   "cols": {
    "lenName": 16,
    "lenType": 16,
    "lenVar": 40
   },
   "kernels_config": {
    "python": {
     "delete_cmd_postfix": "",
     "delete_cmd_prefix": "del ",
     "library": "var_list.py",
     "varRefreshCmd": "print(var_dic_list())"
    },
    "r": {
     "delete_cmd_postfix": ") ",
     "delete_cmd_prefix": "rm(",
     "library": "var_list.r",
     "varRefreshCmd": "cat(var_dic_list()) "
    }
   },
   "types_to_exclude": [
    "module",
    "function",
    "builtin_function_or_method",
    "instance",
    "_Feature"
   ],
   "window_display": false
  }
 },
 "nbformat": 4,
 "nbformat_minor": 4
}
