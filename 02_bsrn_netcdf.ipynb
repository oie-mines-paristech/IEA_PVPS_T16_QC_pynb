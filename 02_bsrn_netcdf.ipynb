{
 "cells": [
  {
   "cell_type": "markdown",
   "metadata": {},
   "source": [
    "# Reading and visualizing a NetCDF file with BSRN solar radiation data\n",
    "\n",
    "*Date: April 29th, 2020*\n",
    "\n",
    "## Overview\n",
    "This tutorial will demonstrate how to open and manipulate a NetCDF file from a thredds data server, containing solar radiation data from the BSRN network.\n",
    "\n",
    "NetCDF is a file format for storing array oriented scientific data, such as solar radiation, temperature or aerosol optical depth. The format has a number of advantages over other common file formats, including the standardized integration of metadata allowing for the data to be self-describin and easy access of a subset of a larger dataset.\n",
    "\n",
    "## Source data\n",
    "The data in this tutorial is from the SURFRAD (https://gml.noaa.gov/grad/surfrad/), which is an American network of high quality stations measuring solar and atmospheric radiation. Currently, there are 7 stations in operation, measuring at a minimum: global horizontal irradiance, diffuse horizontal irradiance and direct normal irradiance with a 1 minute time step.\n",
    "\n",
    "SURFRAD and other data are available as NetCDF files on a thredds server hosted at [webservice-energy.org](http://webservice-energy.org). The naming conventions follow the [climate and forecast conventions](https://www.unidata.ucar.edu/software/netcdf/conventions.html) in order to be interoperable. "
   ]
  },
  {
   "cell_type": "markdown",
   "metadata": {},
   "source": [
    "<br>\n",
    "\n",
    "### 1. Import python modules\n",
    "***\n",
    "First import the necessary modules:"
   ]
  },
  {
   "cell_type": "code",
   "execution_count": 22,
   "metadata": {},
   "outputs": [],
   "source": [
    "import netCDF4 as nc\n",
    "import datetime as dt\n",
    "import pandas as pd\n",
    "import numpy as np\n",
    "import sys\n",
    "sys.path.append('./python_functions')"
   ]
  },
  {
   "cell_type": "markdown",
   "metadata": {},
   "source": [
    "<br>\n",
    "\n",
    "### 2. Read NetCDF file\n",
    "***\n",
    "As an example, the data from the BSRN station Payern is downloaded from the thredds server using the *netCDF4* Python library."
   ]
  },
  {
   "cell_type": "code",
   "execution_count": 73,
   "metadata": {},
   "outputs": [
    {
     "name": "stdout",
     "output_type": "stream",
     "text": [
      "<class 'netCDF4._netCDF4.Dataset'>\n",
      "root group (NETCDF3_CLASSIC data model, file format DAP2):\n",
      "    description: Archive of solar radiation networks worldwide provided by the Webservice-Energy initiative supported by MINES Paris PSL. Files are provided as NetCDF file format with the support of a Thredds Data Server.\n",
      "    title: Timeseries of NOAA's Surface Radiation Budget Network (SURFRAD) (SURFRAD)\n",
      "    keywords: meteorology, station, time, Earth Science > Atmosphere > Atmospheric Radiation > Incoming Solar Radiation, Earth Science > Atmosphere > Atmospheric Temperature > Surface Temperature > Air Temperature, Earth Science > Atmosphere > Atmospheric Pressure > Sea Level Pressure\n",
      "    keywords_vocabulary: GCMD Science Keywords\n",
      "    keywords_vocabulary_url: https://gcmd.earthdata.nasa.gov/static/kms/\n",
      "    contact: Lionel MENARD, Raphael JOLIVET, Yves-Marie SAINT-DRENAN, Philippe BLANC\n",
      "    institution:  MINES Paris PSL\n",
      "    record: Basic measurements (global irradiance, direct irradiance, diffuse irradiance, air temperature, relative humidity, pressure)\n",
      "    Network_ShortName: SURFRAD\n",
      "    Network_Name: NOAA's Surface Radiation Budget Network (SURFRAD)\n",
      "    Network_Region: USA\n",
      "    Network_TimeResolution: 1 min\n",
      "    Network_Description: https://gml.noaa.gov/grad/surfrad/sitepage.html \n",
      "    Network_References: https://doi.org/10.1175/1520-0477(1996)077<2857:TNISIS>2.0.CO;2\n",
      "    Network_License:  -\n",
      "    Network_Contact: https://gml.noaa.gov/about/contacts.html\n",
      "    Station_ID: BON\n",
      "    Station_Name: Bondville, Illinois\n",
      "    Station_Latitude: 40.05\n",
      "    Station_Longitude: -88.37\n",
      "    Station_Elevation: 213\n",
      "    Station_LocalTimeZone: UTC-05:00\n",
      "    Station_Address: 1165, County Road 500 East\n",
      "    Station_Country: United States\n",
      "    Station_KoeppenGeigerClimate: Dfa\n",
      "    Station_TimeResolution: 1\n",
      "    featureType: TimeSeries\n",
      "    cdm_data_type: TimeSeries\n",
      "    Conventions: CF-1.6\n",
      "    cdm_timeseries_variables: station_name,latitude,longitude\n",
      "    creation_time: 2022-04-13T15:56:23.468163\n",
      "    update_time: 2022-04-13T15:56:23.468163\n",
      "    DODS.strlen: 10\n",
      "    DODS.dimName: ncshort\n",
      "    DODS_EXTRA.Unlimited_Dimension: time\n",
      "    dimensions(sizes): time(14284800), maxStrlen64(64)\n",
      "    variables(dimensions): |S1 station_name(maxStrlen64), float32 latitude(), float32 longitude(), float32 elevation(), int32 Time(time), float32 GHI(time), float32 DHI(time), float32 BNI(time), float32 T2(time), float32 WS(time), float32 WD(time)\n",
      "    groups: \n",
      "Wall time: 62 ms\n"
     ]
    }
   ],
   "source": [
    "%%time\n",
    "ID='BON'\n",
    "thredds_url = 'http://tds.webservice-energy.org/thredds/dodsC/surfrad-stations/'\n",
    "filename = 'SURFRAD-{}.nc'.format(ID) # filename for the specific measurements station\n",
    "\n",
    "data_nc = nc.Dataset(\"[FillMismatch]\"+thredds_url+filename) # open the NetCDF file from the server (without downloading the data!)\n",
    "print(data_nc)"
   ]
  },
  {
   "cell_type": "markdown",
   "metadata": {},
   "source": [
    "<br>\n",
    "\n",
    "The NetCDF file contains a number of variables:"
   ]
  },
  {
   "cell_type": "code",
   "execution_count": 74,
   "metadata": {},
   "outputs": [
    {
     "data": {
      "text/plain": [
       "dict_keys(['station_name', 'latitude', 'longitude', 'elevation', 'Time', 'GHI', 'DHI', 'BNI', 'T2', 'WS', 'WD'])"
      ]
     },
     "execution_count": 74,
     "metadata": {},
     "output_type": "execute_result"
    }
   ],
   "source": [
    "data_nc.variables.keys()"
   ]
  },
  {
   "cell_type": "markdown",
   "metadata": {},
   "source": [
    "<br>\n",
    "Each variable contains metadata describing the variable. For example, for the variable GHI, the metadata gives the fullname (Global Horizontal Irradiance), the unit (W/m$^2$) and gives a comment that \"GHI is set to 0 for SZA >= 97 deg\"."
   ]
  },
  {
   "cell_type": "code",
   "execution_count": 75,
   "metadata": {},
   "outputs": [
    {
     "data": {
      "text/plain": [
       "<class 'netCDF4._netCDF4.Variable'>\n",
       "float32 GHI(time)\n",
       "    parameter: Short-wave downward (GLOBAL) radiation\n",
       "    long_name: Global Horizontal Irradiance\n",
       "    standard_name: surface_downwelling_shortwave_flux_in_air\n",
       "    abbreviation: SWD\n",
       "    units: W m-2\n",
       "    Range_LowerBoundary: -10.0\n",
       "    Range_UpperBoundary: 3000\n",
       "    Description: global, mean\n",
       "    least_significant_digit: 1\n",
       "    FirstData: 1997-05-11T00:00\n",
       "    LastData: 2022-02-27T23:59\n",
       "    _ChunkSizes: 1024\n",
       "unlimited dimensions: time\n",
       "current shape = (14284800,)\n",
       "filling off"
      ]
     },
     "execution_count": 75,
     "metadata": {},
     "output_type": "execute_result"
    }
   ],
   "source": [
    "data_nc.variables['GHI']"
   ]
  },
  {
   "cell_type": "markdown",
   "metadata": {},
   "source": [
    "<br>\n",
    "\n",
    "Furthermore, this dataset contains three variables related to the location of the BSRN station: latitude, longitude and elevation."
   ]
  },
  {
   "cell_type": "code",
   "execution_count": 76,
   "metadata": {},
   "outputs": [
    {
     "name": "stdout",
     "output_type": "stream",
     "text": [
      "Latitude = 40.04999923706055°N\n",
      "Longitude = -88.37000274658203°E\n",
      "Elevation = 213.0 m\n"
     ]
    }
   ],
   "source": [
    "lat  = data_nc.variables['latitude'][:].data\n",
    "lon  = data_nc.variables['longitude'][:].data\n",
    "elev = data_nc.variables['elevation'][:].data\n",
    "print('Latitude = {}°N\\nLongitude = {}°E\\nElevation = {} m'.format(lat, lon, elev))"
   ]
  },
  {
   "cell_type": "markdown",
   "metadata": {},
   "source": [
    "<br>\n",
    "Next, the time series data is extracted and saved to individual variables. For demonstration purposes, only measurement data for the first three years are extracted."
   ]
  },
  {
   "cell_type": "code",
   "execution_count": 77,
   "metadata": {},
   "outputs": [
    {
     "name": "stdout",
     "output_type": "stream",
     "text": [
      "Wall time: 2.47 s\n"
     ]
    }
   ],
   "source": [
    "%%time\n",
    "t_start = 0 # first time step\n",
    "t_end = t_start + 3*365*24*60 # last time step\n",
    "\n",
    "# loading and conversion of the time vector \n",
    "\n",
    "time0=data_nc.variables['Time'][t_start:t_end].data\n",
    "time=pd.to_datetime(time0, unit='s',origin=pd.Timestamp('2003-06-15'))\n",
    "\n",
    "# download measurements of the three components of the solar irradiance\n",
    "GHI = data_nc.variables['GHI'][t_start:t_end].data\n",
    "DHI = data_nc.variables['DHI'][t_start:t_end].data\n",
    "BNI = data_nc.variables['BNI'][t_start:t_end].data\n",
    "\n",
    "GHI[GHI>9999999]=np.nan\n",
    "DHI[DHI>9999999]=np.nan\n",
    "BNI[BNI>9999999]=np.nan\n"
   ]
  },
  {
   "cell_type": "code",
   "execution_count": 78,
   "metadata": {},
   "outputs": [
    {
     "data": {
      "text/html": [
       "<div>\n",
       "<style scoped>\n",
       "    .dataframe tbody tr th:only-of-type {\n",
       "        vertical-align: middle;\n",
       "    }\n",
       "\n",
       "    .dataframe tbody tr th {\n",
       "        vertical-align: top;\n",
       "    }\n",
       "\n",
       "    .dataframe thead th {\n",
       "        text-align: right;\n",
       "    }\n",
       "</style>\n",
       "<table border=\"1\" class=\"dataframe\">\n",
       "  <thead>\n",
       "    <tr style=\"text-align: right;\">\n",
       "      <th></th>\n",
       "      <th>GHI</th>\n",
       "      <th>BNI</th>\n",
       "      <th>DHI</th>\n",
       "    </tr>\n",
       "  </thead>\n",
       "  <tbody>\n",
       "    <tr>\n",
       "      <th>2003-06-15 00:00:00</th>\n",
       "      <td>NaN</td>\n",
       "      <td>NaN</td>\n",
       "      <td>NaN</td>\n",
       "    </tr>\n",
       "    <tr>\n",
       "      <th>2003-06-15 00:01:00</th>\n",
       "      <td>NaN</td>\n",
       "      <td>NaN</td>\n",
       "      <td>NaN</td>\n",
       "    </tr>\n",
       "    <tr>\n",
       "      <th>2003-06-15 00:02:00</th>\n",
       "      <td>NaN</td>\n",
       "      <td>NaN</td>\n",
       "      <td>NaN</td>\n",
       "    </tr>\n",
       "    <tr>\n",
       "      <th>2003-06-15 00:03:00</th>\n",
       "      <td>NaN</td>\n",
       "      <td>NaN</td>\n",
       "      <td>NaN</td>\n",
       "    </tr>\n",
       "    <tr>\n",
       "      <th>2003-06-15 00:04:00</th>\n",
       "      <td>NaN</td>\n",
       "      <td>NaN</td>\n",
       "      <td>NaN</td>\n",
       "    </tr>\n",
       "  </tbody>\n",
       "</table>\n",
       "</div>"
      ],
      "text/plain": [
       "                     GHI  BNI  DHI\n",
       "2003-06-15 00:00:00  NaN  NaN  NaN\n",
       "2003-06-15 00:01:00  NaN  NaN  NaN\n",
       "2003-06-15 00:02:00  NaN  NaN  NaN\n",
       "2003-06-15 00:03:00  NaN  NaN  NaN\n",
       "2003-06-15 00:04:00  NaN  NaN  NaN"
      ]
     },
     "execution_count": 78,
     "metadata": {},
     "output_type": "execute_result"
    }
   ],
   "source": [
    "df = pd.DataFrame({'GHI': GHI,'BNI': BNI,'DHI':DHI}, index=time)\n",
    "\n",
    "df.head()"
   ]
  },
  {
   "cell_type": "markdown",
   "metadata": {},
   "source": [
    "<br>\n",
    "\n",
    "### 3: Calculation of sun position\n",
    "***\n",
    "\n",
    "In this tutorial, the sun position will be calculated using the wps_SG2 webservice available through the python package *solargeometry*. A request is sent to the webservice, which carries out the calculations and returns the results. For longer time series, this method is significantly faster than calculating the sun position locally using, for example, the pvlib-python library.\n"
   ]
  },
  {
   "cell_type": "code",
   "execution_count": 79,
   "metadata": {},
   "outputs": [
    {
     "name": "stdout",
     "output_type": "stream",
     "text": [
      "Wall time: 46.4 s\n"
     ]
    },
    {
     "data": {
      "text/html": [
       "<div>\n",
       "<style scoped>\n",
       "    .dataframe tbody tr th:only-of-type {\n",
       "        vertical-align: middle;\n",
       "    }\n",
       "\n",
       "    .dataframe tbody tr th {\n",
       "        vertical-align: top;\n",
       "    }\n",
       "\n",
       "    .dataframe thead th {\n",
       "        text-align: right;\n",
       "    }\n",
       "</style>\n",
       "<table border=\"1\" class=\"dataframe\">\n",
       "  <thead>\n",
       "    <tr style=\"text-align: right;\">\n",
       "      <th></th>\n",
       "      <th>DELTA</th>\n",
       "      <th>OMEGA</th>\n",
       "      <th>EOT</th>\n",
       "      <th>THETA_Z</th>\n",
       "      <th>GAMMA_S0</th>\n",
       "      <th>ALPHA_S</th>\n",
       "      <th>R</th>\n",
       "      <th>TOA</th>\n",
       "      <th>TOANI</th>\n",
       "      <th>SR_h</th>\n",
       "      <th>SS_h</th>\n",
       "    </tr>\n",
       "    <tr>\n",
       "      <th>time</th>\n",
       "      <th></th>\n",
       "      <th></th>\n",
       "      <th></th>\n",
       "      <th></th>\n",
       "      <th></th>\n",
       "      <th></th>\n",
       "      <th></th>\n",
       "      <th></th>\n",
       "      <th></th>\n",
       "      <th></th>\n",
       "      <th></th>\n",
       "    </tr>\n",
       "  </thead>\n",
       "  <tbody>\n",
       "    <tr>\n",
       "      <th>2003-01-01 00:00:00</th>\n",
       "      <td>-0.402370</td>\n",
       "      <td>52931.138449</td>\n",
       "      <td>-2.919678</td>\n",
       "      <td>1.836178</td>\n",
       "      <td>-0.265382</td>\n",
       "      <td>4.405950</td>\n",
       "      <td>0.983341</td>\n",
       "      <td>0.0</td>\n",
       "      <td>1413.711025</td>\n",
       "      <td>1.373680</td>\n",
       "      <td>10.746331</td>\n",
       "    </tr>\n",
       "    <tr>\n",
       "      <th>2003-01-01 00:01:00</th>\n",
       "      <td>-0.402369</td>\n",
       "      <td>52931.142811</td>\n",
       "      <td>-2.919678</td>\n",
       "      <td>1.839362</td>\n",
       "      <td>-0.268566</td>\n",
       "      <td>4.408483</td>\n",
       "      <td>0.983341</td>\n",
       "      <td>0.0</td>\n",
       "      <td>1413.711045</td>\n",
       "      <td>1.373676</td>\n",
       "      <td>10.746335</td>\n",
       "    </tr>\n",
       "    <tr>\n",
       "      <th>2003-01-01 00:02:00</th>\n",
       "      <td>-0.402368</td>\n",
       "      <td>52931.147172</td>\n",
       "      <td>-2.919678</td>\n",
       "      <td>1.842549</td>\n",
       "      <td>-0.271753</td>\n",
       "      <td>4.411015</td>\n",
       "      <td>0.983341</td>\n",
       "      <td>0.0</td>\n",
       "      <td>1413.711065</td>\n",
       "      <td>1.373672</td>\n",
       "      <td>10.746339</td>\n",
       "    </tr>\n",
       "    <tr>\n",
       "      <th>2003-01-01 00:03:00</th>\n",
       "      <td>-0.402367</td>\n",
       "      <td>52931.151534</td>\n",
       "      <td>-2.919678</td>\n",
       "      <td>1.845738</td>\n",
       "      <td>-0.274942</td>\n",
       "      <td>4.413546</td>\n",
       "      <td>0.983340</td>\n",
       "      <td>0.0</td>\n",
       "      <td>1413.711085</td>\n",
       "      <td>1.373668</td>\n",
       "      <td>10.746342</td>\n",
       "    </tr>\n",
       "    <tr>\n",
       "      <th>2003-01-01 00:04:00</th>\n",
       "      <td>-0.402366</td>\n",
       "      <td>52931.155896</td>\n",
       "      <td>-2.919678</td>\n",
       "      <td>1.848930</td>\n",
       "      <td>-0.278133</td>\n",
       "      <td>4.416075</td>\n",
       "      <td>0.983340</td>\n",
       "      <td>0.0</td>\n",
       "      <td>1413.711105</td>\n",
       "      <td>1.373664</td>\n",
       "      <td>10.746346</td>\n",
       "    </tr>\n",
       "  </tbody>\n",
       "</table>\n",
       "</div>"
      ],
      "text/plain": [
       "                        DELTA         OMEGA       EOT   THETA_Z  GAMMA_S0  \\\n",
       "time                                                                        \n",
       "2003-01-01 00:00:00 -0.402370  52931.138449 -2.919678  1.836178 -0.265382   \n",
       "2003-01-01 00:01:00 -0.402369  52931.142811 -2.919678  1.839362 -0.268566   \n",
       "2003-01-01 00:02:00 -0.402368  52931.147172 -2.919678  1.842549 -0.271753   \n",
       "2003-01-01 00:03:00 -0.402367  52931.151534 -2.919678  1.845738 -0.274942   \n",
       "2003-01-01 00:04:00 -0.402366  52931.155896 -2.919678  1.848930 -0.278133   \n",
       "\n",
       "                      ALPHA_S         R  TOA        TOANI      SR_h       SS_h  \n",
       "time                                                                            \n",
       "2003-01-01 00:00:00  4.405950  0.983341  0.0  1413.711025  1.373680  10.746331  \n",
       "2003-01-01 00:01:00  4.408483  0.983341  0.0  1413.711045  1.373676  10.746335  \n",
       "2003-01-01 00:02:00  4.411015  0.983341  0.0  1413.711065  1.373672  10.746339  \n",
       "2003-01-01 00:03:00  4.413546  0.983340  0.0  1413.711085  1.373668  10.746342  \n",
       "2003-01-01 00:04:00  4.416075  0.983340  0.0  1413.711105  1.373664  10.746346  "
      ]
     },
     "execution_count": 79,
     "metadata": {},
     "output_type": "execute_result"
    }
   ],
   "source": [
    "%%time\n",
    "import wps  # import the solargeometry function\n",
    "import pytz # library for timezones\n",
    "\n",
    "location = [lat, lon, elev]\n",
    "tzinfo = pytz.timezone('utc')\n",
    "\n",
    "date_begin = dt.datetime(time.min().year, 1, 1, 0, 0, tzinfo=tzinfo)\n",
    "date_end = dt.datetime(time.max().year, 12, 31, 23, 59, tzinfo=tzinfo)\n",
    "\n",
    "SG2 = wps.wps_SG2(location, date_begin, date_end, 1/60.)\n",
    "SG2.head()"
   ]
  },
  {
   "cell_type": "markdown",
   "metadata": {},
   "source": [
    "<br>\n",
    "\n",
    "### 4: Merge data into a single Pandas DataFrame and saving data\n",
    "***\n",
    "\n",
    "The final step is to combine the BSRN measurement time series and the sun position time series into one Pandas DataFrame."
   ]
  },
  {
   "cell_type": "code",
   "execution_count": 81,
   "metadata": {},
   "outputs": [
    {
     "name": "stdout",
     "output_type": "stream",
     "text": [
      "Wall time: 145 ms\n"
     ]
    },
    {
     "data": {
      "text/html": [
       "<div>\n",
       "<style scoped>\n",
       "    .dataframe tbody tr th:only-of-type {\n",
       "        vertical-align: middle;\n",
       "    }\n",
       "\n",
       "    .dataframe tbody tr th {\n",
       "        vertical-align: top;\n",
       "    }\n",
       "\n",
       "    .dataframe thead th {\n",
       "        text-align: right;\n",
       "    }\n",
       "</style>\n",
       "<table border=\"1\" class=\"dataframe\">\n",
       "  <thead>\n",
       "    <tr style=\"text-align: right;\">\n",
       "      <th></th>\n",
       "      <th>GHI</th>\n",
       "      <th>BNI</th>\n",
       "      <th>DHI</th>\n",
       "      <th>DELTA</th>\n",
       "      <th>OMEGA</th>\n",
       "      <th>EOT</th>\n",
       "      <th>THETA_Z</th>\n",
       "      <th>GAMMA_S0</th>\n",
       "      <th>ALPHA_S</th>\n",
       "      <th>R</th>\n",
       "      <th>TOA</th>\n",
       "      <th>TOANI</th>\n",
       "      <th>SR_h</th>\n",
       "      <th>SS_h</th>\n",
       "    </tr>\n",
       "  </thead>\n",
       "  <tbody>\n",
       "    <tr>\n",
       "      <th>2003-06-15 00:00:00</th>\n",
       "      <td>NaN</td>\n",
       "      <td>NaN</td>\n",
       "      <td>NaN</td>\n",
       "      <td>0.406307</td>\n",
       "      <td>53967.876703</td>\n",
       "      <td>-0.042736</td>\n",
       "      <td>1.333464</td>\n",
       "      <td>0.237332</td>\n",
       "      <td>5.046427</td>\n",
       "      <td>1.015697</td>\n",
       "      <td>311.538785</td>\n",
       "      <td>1325.074120</td>\n",
       "      <td>-1.390303</td>\n",
       "      <td>13.606211</td>\n",
       "    </tr>\n",
       "    <tr>\n",
       "      <th>2003-06-15 00:01:00</th>\n",
       "      <td>NaN</td>\n",
       "      <td>NaN</td>\n",
       "      <td>NaN</td>\n",
       "      <td>0.406308</td>\n",
       "      <td>53967.881065</td>\n",
       "      <td>-0.042736</td>\n",
       "      <td>1.336617</td>\n",
       "      <td>0.234179</td>\n",
       "      <td>5.048971</td>\n",
       "      <td>1.015697</td>\n",
       "      <td>307.476021</td>\n",
       "      <td>1325.073948</td>\n",
       "      <td>-1.390305</td>\n",
       "      <td>13.606213</td>\n",
       "    </tr>\n",
       "    <tr>\n",
       "      <th>2003-06-15 00:02:00</th>\n",
       "      <td>NaN</td>\n",
       "      <td>NaN</td>\n",
       "      <td>NaN</td>\n",
       "      <td>0.406308</td>\n",
       "      <td>53967.885428</td>\n",
       "      <td>-0.042736</td>\n",
       "      <td>1.339768</td>\n",
       "      <td>0.231028</td>\n",
       "      <td>5.051516</td>\n",
       "      <td>1.015697</td>\n",
       "      <td>303.413825</td>\n",
       "      <td>1325.073776</td>\n",
       "      <td>-1.390307</td>\n",
       "      <td>13.606215</td>\n",
       "    </tr>\n",
       "    <tr>\n",
       "      <th>2003-06-15 00:03:00</th>\n",
       "      <td>NaN</td>\n",
       "      <td>NaN</td>\n",
       "      <td>NaN</td>\n",
       "      <td>0.406309</td>\n",
       "      <td>53967.889791</td>\n",
       "      <td>-0.042736</td>\n",
       "      <td>1.342915</td>\n",
       "      <td>0.227881</td>\n",
       "      <td>5.054063</td>\n",
       "      <td>1.015697</td>\n",
       "      <td>299.352270</td>\n",
       "      <td>1325.073604</td>\n",
       "      <td>-1.390309</td>\n",
       "      <td>13.606217</td>\n",
       "    </tr>\n",
       "    <tr>\n",
       "      <th>2003-06-15 00:04:00</th>\n",
       "      <td>NaN</td>\n",
       "      <td>NaN</td>\n",
       "      <td>NaN</td>\n",
       "      <td>0.406309</td>\n",
       "      <td>53967.894153</td>\n",
       "      <td>-0.042736</td>\n",
       "      <td>1.346060</td>\n",
       "      <td>0.224736</td>\n",
       "      <td>5.056612</td>\n",
       "      <td>1.015697</td>\n",
       "      <td>295.291436</td>\n",
       "      <td>1325.073432</td>\n",
       "      <td>-1.390311</td>\n",
       "      <td>13.606220</td>\n",
       "    </tr>\n",
       "  </tbody>\n",
       "</table>\n",
       "</div>"
      ],
      "text/plain": [
       "                     GHI  BNI  DHI     DELTA         OMEGA       EOT  \\\n",
       "2003-06-15 00:00:00  NaN  NaN  NaN  0.406307  53967.876703 -0.042736   \n",
       "2003-06-15 00:01:00  NaN  NaN  NaN  0.406308  53967.881065 -0.042736   \n",
       "2003-06-15 00:02:00  NaN  NaN  NaN  0.406308  53967.885428 -0.042736   \n",
       "2003-06-15 00:03:00  NaN  NaN  NaN  0.406309  53967.889791 -0.042736   \n",
       "2003-06-15 00:04:00  NaN  NaN  NaN  0.406309  53967.894153 -0.042736   \n",
       "\n",
       "                      THETA_Z  GAMMA_S0   ALPHA_S         R         TOA  \\\n",
       "2003-06-15 00:00:00  1.333464  0.237332  5.046427  1.015697  311.538785   \n",
       "2003-06-15 00:01:00  1.336617  0.234179  5.048971  1.015697  307.476021   \n",
       "2003-06-15 00:02:00  1.339768  0.231028  5.051516  1.015697  303.413825   \n",
       "2003-06-15 00:03:00  1.342915  0.227881  5.054063  1.015697  299.352270   \n",
       "2003-06-15 00:04:00  1.346060  0.224736  5.056612  1.015697  295.291436   \n",
       "\n",
       "                           TOANI      SR_h       SS_h  \n",
       "2003-06-15 00:00:00  1325.074120 -1.390303  13.606211  \n",
       "2003-06-15 00:01:00  1325.073948 -1.390305  13.606213  \n",
       "2003-06-15 00:02:00  1325.073776 -1.390307  13.606215  \n",
       "2003-06-15 00:03:00  1325.073604 -1.390309  13.606217  \n",
       "2003-06-15 00:04:00  1325.073432 -1.390311  13.606220  "
      ]
     },
     "execution_count": 81,
     "metadata": {},
     "output_type": "execute_result"
    }
   ],
   "source": [
    "%%time\n",
    "df = pd.DataFrame({'GHI': GHI,'BNI': BNI,'DHI':DHI}, index=time)\n",
    "df.reindex(pd.date_range(date_begin, date_end, freq='1min', tz='utc'))\n",
    "df = df.merge(SG2, how='left', left_index=True, right_index=True)\n",
    "\n",
    "df.head()"
   ]
  },
  {
   "cell_type": "code",
   "execution_count": 82,
   "metadata": {},
   "outputs": [
    {
     "data": {
      "text/plain": [
       "<AxesSubplot:>"
      ]
     },
     "execution_count": 82,
     "metadata": {},
     "output_type": "execute_result"
    },
    {
     "data": {
      "image/png": "[encoded data removed]",
      "text/plain": [
       "<Figure size 432x288 with 1 Axes>"
      ]
     },
     "metadata": {
      "needs_background": "light"
     },
     "output_type": "display_data"
    }
   ],
   "source": [
    "df['GHI'].plot()"
   ]
  },
  {
   "cell_type": "markdown",
   "metadata": {},
   "source": [
    "<br>\n",
    "It is possible to save a DataFrame in numerous formats. Here it is shown how to save it as a *Pandas pickle* which we use in the following tutorials."
   ]
  },
  {
   "cell_type": "code",
   "execution_count": 70,
   "metadata": {},
   "outputs": [
    {
     "name": "stdout",
     "output_type": "stream",
     "text": [
      "Wall time: 393 ms\n"
     ]
    }
   ],
   "source": [
    "%%time\n",
    "df.to_pickle('./tmpData/{}_data.pkl'.format(ID)) # save the DataFrame in the Pandas pickle format\n",
    "\n",
    "\n",
    "# todo: include the name and information of the station in the saved file."
   ]
  },
  {
   "cell_type": "markdown",
   "metadata": {},
   "source": [
    "<br><br>\n",
    "\n",
    "***\n",
    "Once all the data is combined into one DataFrame, manipulation and plotting become relatively easy tasks.\n",
    "\n",
    "As an example, the first month of the GHI, DHI, and BNI is plotted with the original 1 minute resolution:"
   ]
  },
  {
   "cell_type": "code",
   "execution_count": 71,
   "metadata": {},
   "outputs": [
    {
     "data": {
      "image/png": "[encoded data removed]",
      "text/plain": [
       "<Figure size 864x360 with 3 Axes>"
      ]
     },
     "metadata": {
      "needs_background": "light"
     },
     "output_type": "display_data"
    }
   ],
   "source": [
    "_ = df.loc[:'2004-05-01', ['GHI','DHI','BNI']].plot(figsize=(12,5), subplots=True)"
   ]
  },
  {
   "cell_type": "markdown",
   "metadata": {},
   "source": [
    "Plotting the monthly average irradiance as a bar chart, can be done in one line as well:"
   ]
  },
  {
   "cell_type": "code",
   "execution_count": 62,
   "metadata": {},
   "outputs": [
    {
     "data": {
      "image/png": "[encoded data removed]",
      "text/plain": [
       "<Figure size 864x432 with 3 Axes>"
      ]
     },
     "metadata": {
      "needs_background": "light"
     },
     "output_type": "display_data"
    }
   ],
   "source": [
    "_ = df[['GHI','DHI','BNI']].resample('1M').mean().plot(figsize=(12,6), kind='bar', subplots=True)"
   ]
  },
  {
   "cell_type": "markdown",
   "metadata": {},
   "source": [
    "A common quality check is the comparison of GHI to the sum of the DHI and the horizontal component of BNI:"
   ]
  },
  {
   "cell_type": "code",
   "execution_count": 72,
   "metadata": {},
   "outputs": [
    {
     "data": {
      "image/png": "[encoded data removed]",
      "text/plain": [
       "<Figure size 432x288 with 1 Axes>"
      ]
     },
     "metadata": {
      "needs_background": "light"
     },
     "output_type": "display_data"
    }
   ],
   "source": [
    "df['sumsw'] = df['DHI'] + df['BNI']*np.cos(df['THETA_Z']) # GHI calculated from DHI and BNI\n",
    "\n",
    "_ = df[df['THETA_Z']<80].plot.scatter(x='GHI', y='sumsw', s=1)"
   ]
  }
 ],
 "metadata": {
  "kernelspec": {
   "display_name": "Python 3 (ipykernel)",
   "language": "python",
   "name": "python3"
  },
  "language_info": {
   "codemirror_mode": {
    "name": "ipython",
    "version": 3
   },
   "file_extension": ".py",
   "mimetype": "text/x-python",
   "name": "python",
   "nbconvert_exporter": "python",
   "pygments_lexer": "ipython3",
   "version": "3.8.8"
  }
 },
 "nbformat": 4,
 "nbformat_minor": 4
}
