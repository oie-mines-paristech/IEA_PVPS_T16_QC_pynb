{
 "cells": [
  {
   "cell_type": "markdown",
   "metadata": {},
   "source": [
    "# Reading and visualizing a NetCDF file with SURFRAD solar radiation data\n",
    "\n",
    "*Date: April 29th, 2020*\n",
    "\n",
    "## Overview\n",
    "This tutorial will demonstrate how to open and manipulate a NetCDF file from a thredds data server, containing solar radiation data from the BSRN network.\n",
    "\n",
    "NetCDF is a file format for storing array oriented scientific data, such as solar radiation, temperature or aerosol optical depth. The format has a number of advantages over other common file formats, including the standardized integration of metadata allowing for the data to be self-describin and easy access of a subset of a larger dataset.\n",
    "\n",
    "## Source data\n",
    "The data in this tutorial is from the SURFRAD (https://gml.noaa.gov/grad/surfrad/), which is an American network of high quality stations measuring solar and atmospheric radiation. Currently, there are 7 stations in operation, measuring at a minimum: global horizontal irradiance, diffuse horizontal irradiance and direct normal irradiance with a 1 minute time step.\n",
    "\n",
    "SURFRAD and other data are available as NetCDF files on a thredds server hosted at [webservice-energy.org](http://webservice-energy.org). The naming conventions follow the [climate and forecast conventions](https://www.unidata.ucar.edu/software/netcdf/conventions.html) in order to be interoperable. "
   ]
  },
  {
   "cell_type": "markdown",
   "metadata": {},
   "source": [
    "<br>\n",
    "\n",
    "# 1. Import python modules\n",
    "***\n",
    "First import the necessary modules:"
   ]
  },
  {
   "cell_type": "code",
   "execution_count": 25,
   "metadata": {},
   "outputs": [],
   "source": [
    "import netCDF4 as nc\n",
    "import datetime as dt\n",
    "import pandas as pd\n",
    "import numpy as np\n",
    "import sg2\n",
    "import sys\n",
    "from IPython import display\n",
    "sys.path.append('./python_functions')"
   ]
  },
  {
   "cell_type": "markdown",
   "metadata": {},
   "source": [
    "# 2. Visualisation of the content of the TDS server\n",
    "***"
   ]
  },
  {
   "cell_type": "code",
   "execution_count": 20,
   "metadata": {},
   "outputs": [
    {
     "data": {
      "text/html": [
       "<!DOCTYPE html PUBLIC '-//W3C//DTD HTML 4.01 Transitional//EN'\n",
       "        'http://www.w3.org/TR/html4/loose.dtd'>\n",
       "<html>\n",
       "<head>\r\n",
       "<meta http-equiv='Content-Type' content='text/html; charset=UTF-8'><title>Catalog http://tds.webservice-energy.org/thredds/catalog/surfrad-stations/catalog.html</title>\r\n",
       "<link rel='stylesheet' href='/thredds/tdsCat.css' type='text/css' >\n",
       "</head>\r\n",
       "<body><h1><img src='/thredds/img/webservice-logo-80x80.png' alt='Webservice-Energy THREDDS Catalog' align='left' valign='top'>\n",
       "Catalog http://tds.webservice-energy.org/thredds/catalog/surfrad-stations/catalog.html</h1><HR size='1' noshade='noshade'><table width='100%' cellspacing='0' cellpadding='5' align='center'>\r\n",
       "<tr>\r\n",
       "<th align='left'><font size='+1'>Dataset</font></th>\r\n",
       "<th align='center'><font size='+1'>Size</font></th>\r\n",
       "<th align='right'><font size='+1'>Last Modified</font></th>\r\n",
       "</tr><tr>\r\n",
       "<td align='left'>&nbsp;&nbsp;&nbsp;&nbsp;\r\n",
       "<img src='/thredds/folder.gif' alt='Folder'> &nbsp;<a href='catalog.html?dataset=surfrad-stations'><tt>SURFRAD</tt></a></td>\r\n",
       "<td align='right'><tt>&nbsp;</tt></td>\r\n",
       "<td align='right'><tt>--</tt></td>\r\n",
       "</tr>\r\n",
       "<tr bgcolor='#eeeeee'>\r\n",
       "<td align='left'>&nbsp;&nbsp;&nbsp;&nbsp;&nbsp;&nbsp;&nbsp;&nbsp;\r\n",
       "<a href='catalog.html?dataset=surfrad-stations/SURFRAD-TBL.nc'><tt>SURFRAD-TBL.nc</tt></a></td>\r\n",
       "<td align='right'><tt>78.46 Mbytes</tt></td>\r\n",
       "<td align='right'><tt>2022-04-13T14:09:01.574Z</tt></td>\r\n",
       "</tr>\r\n",
       "<tr>\r\n",
       "<td align='left'>&nbsp;&nbsp;&nbsp;&nbsp;&nbsp;&nbsp;&nbsp;&nbsp;\r\n",
       "<a href='catalog.html?dataset=surfrad-stations/SURFRAD-SXF.nc'><tt>SURFRAD-SXF.nc</tt></a></td>\r\n",
       "<td align='right'><tt>68.77 Mbytes</tt></td>\r\n",
       "<td align='right'><tt>2022-04-13T14:06:18.985Z</tt></td>\r\n",
       "</tr>\r\n",
       "<tr bgcolor='#eeeeee'>\r\n",
       "<td align='left'>&nbsp;&nbsp;&nbsp;&nbsp;&nbsp;&nbsp;&nbsp;&nbsp;\r\n",
       "<a href='catalog.html?dataset=surfrad-stations/SURFRAD-PSU.nc'><tt>SURFRAD-PSU.nc</tt></a></td>\r\n",
       "<td align='right'><tt>72.60 Mbytes</tt></td>\r\n",
       "<td align='right'><tt>2022-04-13T14:07:31.716Z</tt></td>\r\n",
       "</tr>\r\n",
       "<tr>\r\n",
       "<td align='left'>&nbsp;&nbsp;&nbsp;&nbsp;&nbsp;&nbsp;&nbsp;&nbsp;\r\n",
       "<a href='catalog.html?dataset=surfrad-stations/SURFRAD-GWN.nc'><tt>SURFRAD-GWN.nc</tt></a></td>\r\n",
       "<td align='right'><tt>70.79 Mbytes</tt></td>\r\n",
       "<td align='right'><tt>2022-04-13T14:08:26.682Z</tt></td>\r\n",
       "</tr>\r\n",
       "<tr bgcolor='#eeeeee'>\r\n",
       "<td align='left'>&nbsp;&nbsp;&nbsp;&nbsp;&nbsp;&nbsp;&nbsp;&nbsp;\r\n",
       "<a href='catalog.html?dataset=surfrad-stations/SURFRAD-FPK.nc'><tt>SURFRAD-FPK.nc</tt></a></td>\r\n",
       "<td align='right'><tt>75.06 Mbytes</tt></td>\r\n",
       "<td align='right'><tt>2022-04-13T14:09:07.633Z</tt></td>\r\n",
       "</tr>\r\n",
       "<tr>\r\n",
       "<td align='left'>&nbsp;&nbsp;&nbsp;&nbsp;&nbsp;&nbsp;&nbsp;&nbsp;\r\n",
       "<a href='catalog.html?dataset=surfrad-stations/SURFRAD-DRA.nc'><tt>SURFRAD-DRA.nc</tt></a></td>\r\n",
       "<td align='right'><tt>77.04 Mbytes</tt></td>\r\n",
       "<td align='right'><tt>2022-04-13T14:08:24.163Z</tt></td>\r\n",
       "</tr>\r\n",
       "<tr bgcolor='#eeeeee'>\r\n",
       "<td align='left'>&nbsp;&nbsp;&nbsp;&nbsp;&nbsp;&nbsp;&nbsp;&nbsp;\r\n",
       "<a href='catalog.html?dataset=surfrad-stations/SURFRAD-BON.nc'><tt>SURFRAD-BON.nc</tt></a></td>\r\n",
       "<td align='right'><tt>70.71 Mbytes</tt></td>\r\n",
       "<td align='right'><tt>2022-04-13T14:08:32.172Z</tt></td>\r\n",
       "</tr>\r\n",
       "</table>\r\n",
       "<HR size='1' noshade='noshade'><h3><a href='/thredds/catalog.html'>Webservice-Energy THREDDS Catalog</a> at <a href='http://www.webservice-energy.org/'>Webservice-Energy SDI</a> see <a href='/thredds/serverInfo.html'> Info </a><br>\n",
       "THREDDS Data Server [Version 4.6.16.1 - 2021-02-23T15:50:43-0700] <a href='https://www.unidata.ucar.edu/software/tds/current/reference/index.html'> Documentation</a></h3>\n",
       "</body>\r\n",
       "</html>\r\n"
      ],
      "text/plain": [
       "<IPython.core.display.HTML object>"
      ]
     },
     "execution_count": 20,
     "metadata": {},
     "output_type": "execute_result"
    }
   ],
   "source": [
    "thredds_catalog_url = 'http://tds.webservice-energy.org/thredds/catalog/surfrad-stations/catalog.html'\n",
    "display.HTML(url=thredds_catalog_url)"
   ]
  },
  {
   "cell_type": "markdown",
   "metadata": {},
   "source": [
    "<br>\n",
    "\n",
    "# 2. Read NetCDF file\n",
    "***\n",
    "As an example, the data from the BSRN station Payern is downloaded from the thredds server using the *netCDF4* Python library."
   ]
  },
  {
   "cell_type": "code",
   "execution_count": 21,
   "metadata": {},
   "outputs": [
    {
     "name": "stdout",
     "output_type": "stream",
     "text": [
      "<class 'netCDF4._netCDF4.Dataset'>\n",
      "root group (NETCDF3_CLASSIC data model, file format DAP2):\n",
      "    description: Archive of solar radiation networks worldwide provided by the Webservice-Energy initiative supported by MINES Paris PSL. Files are provided as NetCDF file format with the support of a Thredds Data Server.\n",
      "    title: Timeseries of NOAA's Surface Radiation Budget Network (SURFRAD) (SURFRAD)\n",
      "    keywords: meteorology, station, time, Earth Science > Atmosphere > Atmospheric Radiation > Incoming Solar Radiation, Earth Science > Atmosphere > Atmospheric Temperature > Surface Temperature > Air Temperature, Earth Science > Atmosphere > Atmospheric Pressure > Sea Level Pressure\n",
      "    keywords_vocabulary: GCMD Science Keywords\n",
      "    keywords_vocabulary_url: https://gcmd.earthdata.nasa.gov/static/kms/\n",
      "    contact: Lionel MENARD, Raphael JOLIVET, Yves-Marie SAINT-DRENAN, Philippe BLANC\n",
      "    institution:  MINES Paris PSL\n",
      "    record: Basic measurements (global irradiance, direct irradiance, diffuse irradiance, air temperature, relative humidity, pressure)\n",
      "    Network_ShortName: SURFRAD\n",
      "    Network_Name: NOAA's Surface Radiation Budget Network (SURFRAD)\n",
      "    Network_Region: USA\n",
      "    Network_TimeResolution: 1 min\n",
      "    Network_Description: https://gml.noaa.gov/grad/surfrad/sitepage.html \n",
      "    Network_References: https://doi.org/10.1175/1520-0477(1996)077<2857:TNISIS>2.0.CO;2\n",
      "    Network_License:  -\n",
      "    Network_Contact: https://gml.noaa.gov/about/contacts.html\n",
      "    Station_ID: BON\n",
      "    Station_Name: Bondville, Illinois\n",
      "    Station_Latitude: 40.05\n",
      "    Station_Longitude: -88.37\n",
      "    Station_Elevation: 213\n",
      "    Station_LocalTimeZone: UTC-05:00\n",
      "    Station_Address: 1165, County Road 500 East\n",
      "    Station_Country: United States\n",
      "    Station_KoeppenGeigerClimate: Dfa\n",
      "    Station_TimeResolution: 1\n",
      "    featureType: TimeSeries\n",
      "    cdm_data_type: TimeSeries\n",
      "    Conventions: CF-1.6\n",
      "    cdm_timeseries_variables: station_name,latitude,longitude\n",
      "    creation_time: 2022-04-13T15:56:23.468163\n",
      "    update_time: 2022-04-13T15:56:23.468163\n",
      "    DODS.strlen: 10\n",
      "    DODS.dimName: ncshort\n",
      "    DODS_EXTRA.Unlimited_Dimension: time\n",
      "    dimensions(sizes): time(14284800), maxStrlen64(64)\n",
      "    variables(dimensions): |S1 station_name(maxStrlen64), float32 latitude(), float32 longitude(), float32 elevation(), int32 Time(time), float32 GHI(time), float32 DHI(time), float32 BNI(time), float32 T2(time), float32 WS(time), float32 WD(time)\n",
      "    groups: \n",
      "Wall time: 71 ms\n"
     ]
    }
   ],
   "source": [
    "%%time\n",
    "ID='BON'\n",
    "thredds_url = 'http://tds.webservice-energy.org/thredds/dodsC/surfrad-stations/'\n",
    "filename = 'SURFRAD-{}.nc'.format(ID) # filename for the specific measurements station\n",
    "\n",
    "data_nc = nc.Dataset(\"[FillMismatch]\"+thredds_url+filename) # open the NetCDF file from the server (without downloading the data!)\n",
    "print(data_nc)"
   ]
  },
  {
   "cell_type": "markdown",
   "metadata": {},
   "source": [
    "<br>\n",
    "\n",
    "The NetCDF file contains a number of variables:"
   ]
  },
  {
   "cell_type": "code",
   "execution_count": 11,
   "metadata": {},
   "outputs": [
    {
     "data": {
      "text/plain": [
       "dict_keys(['station_name', 'latitude', 'longitude', 'elevation', 'Time', 'GHI', 'DHI', 'BNI', 'T2', 'WS', 'WD'])"
      ]
     },
     "execution_count": 11,
     "metadata": {},
     "output_type": "execute_result"
    }
   ],
   "source": [
    "data_nc.variables.keys()"
   ]
  },
  {
   "cell_type": "markdown",
   "metadata": {},
   "source": [
    "<br>\n",
    "Each variable contains metadata describing the variable. For example, for the variable GHI, the metadata gives the fullname (Global Horizontal Irradiance), the unit (W/m$^2$) and gives a comment that \"GHI is set to 0 for SZA >= 97 deg\"."
   ]
  },
  {
   "cell_type": "code",
   "execution_count": 12,
   "metadata": {},
   "outputs": [
    {
     "data": {
      "text/plain": [
       "<class 'netCDF4._netCDF4.Variable'>\n",
       "float32 GHI(time)\n",
       "    parameter: Short-wave downward (GLOBAL) radiation\n",
       "    long_name: Global Horizontal Irradiance\n",
       "    standard_name: surface_downwelling_shortwave_flux_in_air\n",
       "    abbreviation: SWD\n",
       "    units: W m-2\n",
       "    Range_LowerBoundary: -10.0\n",
       "    Range_UpperBoundary: 3000\n",
       "    Description: global, mean\n",
       "    least_significant_digit: 1\n",
       "    FirstData: 1997-05-11T00:00\n",
       "    LastData: 2022-02-27T23:59\n",
       "    _ChunkSizes: 1024\n",
       "unlimited dimensions: time\n",
       "current shape = (14284800,)\n",
       "filling off"
      ]
     },
     "execution_count": 12,
     "metadata": {},
     "output_type": "execute_result"
    }
   ],
   "source": [
    "data_nc.variables['GHI']"
   ]
  },
  {
   "cell_type": "markdown",
   "metadata": {},
   "source": [
    "<br>\n",
    "\n",
    "Furthermore, this dataset contains three variables related to the location of the BSRN station: latitude, longitude and elevation."
   ]
  },
  {
   "cell_type": "code",
   "execution_count": 13,
   "metadata": {},
   "outputs": [
    {
     "name": "stdout",
     "output_type": "stream",
     "text": [
      "Latitude = 40.04999923706055°N\n",
      "Longitude = -88.37000274658203°E\n",
      "Elevation = 213.0 m\n"
     ]
    }
   ],
   "source": [
    "lat  = data_nc.variables['latitude'][:].data\n",
    "lon  = data_nc.variables['longitude'][:].data\n",
    "elev = data_nc.variables['elevation'][:].data\n",
    "print('Latitude = {}°N\\nLongitude = {}°E\\nElevation = {} m'.format(lat, lon, elev))"
   ]
  },
  {
   "cell_type": "markdown",
   "metadata": {},
   "source": [
    "<br>\n",
    "Next, the time series data is extracted and saved to individual variables. For demonstration purposes, only measurement data for the first three years are extracted."
   ]
  },
  {
   "cell_type": "code",
   "execution_count": 17,
   "metadata": {},
   "outputs": [
    {
     "name": "stdout",
     "output_type": "stream",
     "text": [
      "Wall time: 13.1 s\n"
     ]
    }
   ],
   "source": [
    "%%time\n",
    "\n",
    "# loading and conversion of the time vector \n",
    "time0=data_nc.variables['Time'][:].data\n",
    "time=pd.to_datetime(time0, unit='s',origin=pd.Timestamp('1997-05-11'))\n",
    "\n",
    "# download measurements of the three components of the solar irradiance\n",
    "GHI = data_nc.variables['GHI'][:].data\n",
    "DHI = data_nc.variables['DHI'][:].data\n",
    "BNI = data_nc.variables['BNI'][:].data\n",
    "\n",
    "GHI[GHI>9999999]=np.nan\n",
    "DHI[DHI>9999999]=np.nan\n",
    "BNI[BNI>9999999]=np.nan\n"
   ]
  },
  {
   "cell_type": "code",
   "execution_count": 39,
   "metadata": {},
   "outputs": [
    {
     "data": {
      "text/html": [
       "<div>\n",
       "<style scoped>\n",
       "    .dataframe tbody tr th:only-of-type {\n",
       "        vertical-align: middle;\n",
       "    }\n",
       "\n",
       "    .dataframe tbody tr th {\n",
       "        vertical-align: top;\n",
       "    }\n",
       "\n",
       "    .dataframe thead th {\n",
       "        text-align: right;\n",
       "    }\n",
       "</style>\n",
       "<table border=\"1\" class=\"dataframe\">\n",
       "  <thead>\n",
       "    <tr style=\"text-align: right;\">\n",
       "      <th></th>\n",
       "      <th>GHI</th>\n",
       "      <th>BNI</th>\n",
       "      <th>DHI</th>\n",
       "    </tr>\n",
       "  </thead>\n",
       "  <tbody>\n",
       "    <tr>\n",
       "      <th>1997-05-11 00:00:00</th>\n",
       "      <td>NaN</td>\n",
       "      <td>NaN</td>\n",
       "      <td>NaN</td>\n",
       "    </tr>\n",
       "    <tr>\n",
       "      <th>1997-05-11 00:01:00</th>\n",
       "      <td>NaN</td>\n",
       "      <td>NaN</td>\n",
       "      <td>NaN</td>\n",
       "    </tr>\n",
       "    <tr>\n",
       "      <th>1997-05-11 00:02:00</th>\n",
       "      <td>NaN</td>\n",
       "      <td>NaN</td>\n",
       "      <td>NaN</td>\n",
       "    </tr>\n",
       "    <tr>\n",
       "      <th>1997-05-11 00:03:00</th>\n",
       "      <td>NaN</td>\n",
       "      <td>NaN</td>\n",
       "      <td>NaN</td>\n",
       "    </tr>\n",
       "    <tr>\n",
       "      <th>1997-05-11 00:04:00</th>\n",
       "      <td>NaN</td>\n",
       "      <td>NaN</td>\n",
       "      <td>NaN</td>\n",
       "    </tr>\n",
       "  </tbody>\n",
       "</table>\n",
       "</div>"
      ],
      "text/plain": [
       "                     GHI  BNI  DHI\n",
       "1997-05-11 00:00:00  NaN  NaN  NaN\n",
       "1997-05-11 00:01:00  NaN  NaN  NaN\n",
       "1997-05-11 00:02:00  NaN  NaN  NaN\n",
       "1997-05-11 00:03:00  NaN  NaN  NaN\n",
       "1997-05-11 00:04:00  NaN  NaN  NaN"
      ]
     },
     "execution_count": 39,
     "metadata": {},
     "output_type": "execute_result"
    }
   ],
   "source": [
    "df = pd.DataFrame({'GHI': GHI,'BNI': BNI,'DHI':DHI}, index=time)\n",
    "\n",
    "df.head()\n"
   ]
  },
  {
   "cell_type": "markdown",
   "metadata": {},
   "source": [
    "# 3: Calculation of sun position\n",
    "***\n",
    "\n",
    "In this tutorial, the sun position will be calculated using the wps_SG2 webservice available through the python package *solargeometry*. A request is sent to the webservice, which carries out the calculations and returns the results. For longer time series, this method is significantly faster than calculating the sun position locally using, for example, the pvlib-python library.\n",
    "\n",
    "\n",
    "output\n",
    "    The output is a python list of fields identified by python strings.  Each\n",
    "    given fields will be computed and provided in the output o as follow :\n",
    "    *\"field.name\"* will be *o.field.name*.  Possible fields and there output\n",
    "    type are:\n",
    "\n",
    "    * \"geoc.ut\" **timestamp** as array of datetime64[ms]\n",
    "    * \"geoc.tt\" **terrestrial time** as array of datetime64[ms]\n",
    "    * \"geoc.R\" **Radius Sun-Earth** in astronomical unit (au) as array of double\n",
    "    * \"geoc.L\" **Heliocentric Earth true longitude** in radians as array of double\n",
    "    * \"geoc.delta\" **Geocentric declination** in radians as array of double\n",
    "    * \"geoc.EOT\" **Equation of Time: difference between apparent solar time and mean solar time** in radians as array of double (to be multiplied by pi/12 for hourly values)\n",
    "    * \"geoc.Theta_a\" **Geocentric Earth true longitude** in radians as array of double\n",
    "    * \"geoc.epsilon\" **Earth true obliquity** in radians as array of double\n",
    "    * \"geoc.nu\" **Apparent sideral time** in radians as array of double\n",
    "    * \"geoc.r_alpha\" **Geocentric right ascension** in radians as array of double\n",
    "    * \"geoc.Delta_psi\" **Nutation in Geocentric Sun longitude** in radians as array of double\n",
    "    * \"gp.lambda\" **Longitude** in radians as array of double\n",
    "    * \"gp.phi\" **Latitude** in radians as array of double\n",
    "    * \"gp.u\" **phi geocentric**\n",
    "    * \"gp.x\"\n",
    "    * \"gp.y\"\n",
    "    * \"topoc.delta\" **Topocentric sun declination** in radians as array of double\n",
    "    * \"topoc.alpha_S\" **Topocentric sun azimuth** in radians as array of double\n",
    "    * \"topoc.gamma_S0\" **Topocentric sun elevation angle without correction of atm. refraction.** in radians as array of double\n",
    "    * \"topoc.omega\" **Topocentric local hour angle** in radians as array of double\n",
    "    * \"topoc.r_alpha\" **Topocentric right sun ascension** in radians as array of double\n",
    "    * \"topoc.toa_hi\" **Top of atmosphere horizontal irradiance** in W.m^{-2} as array of double\n",
    "    * \"topoc.toa_ni\" **Top of atmosphere normal irradiance** in W.m^{-2} as array of double\n",
    "\n",
    "    The abreviations geoc and topoc stand for respectively geocentric and topocentric.\n",
    "\n",
    "    Moreover the size of arrays of geoc.* fields will be (M,), the size of\n",
    "    arrays of gp.* fields will be (N,) and the size of arrays of topoc.* will\n",
    "    be (N,M).\n",
    "\n",
    "\n",
    "This library can be installed via pip:  \"pip install sg2 -f https://pip.oie-lab.net/python-devel/ \"\n"
   ]
  },
  {
   "cell_type": "code",
   "execution_count": 44,
   "metadata": {},
   "outputs": [
    {
     "name": "stdout",
     "output_type": "stream",
     "text": [
      "namespace(geoc=namespace(EOT=array([106.83002417, 106.83002426, 106.83002436, ..., 276.43783949,\n",
      "       276.43783902, 276.43783855])), gp=namespace(), topoc=namespace(alpha_S=array([[2.42048889, 2.41609503, 2.41170131, ..., 2.47052896, 2.46612528,\n",
      "        2.46172175]]), delta=array([[0.3112838 , 0.31128692, 0.31129004, ..., 0.39168018, 0.39167878,\n",
      "        0.39167738]]), gamma_S0=array([[-0.33271033, -0.3326313 , -0.33255187, ..., -0.41402712,\n",
      "        -0.41394834, -0.41386913]]), omega=array([[ 39946.0654501 ,  39946.06981351,  39946.07417692, ...,\n",
      "        102444.85840095, 102444.8627638 , 102444.86712665]]), r_alpha=array([[0.83617613, 0.83618798, 0.83619984, ..., 1.88003262, 1.88004504,\n",
      "        1.88005746]]), toa_hi=array([[0., 0., 0., ..., 0., 0., 0.]]), toa_ni=array([[0., 0., 0., ..., 0., 0., 0.]])))\n",
      "Wall time: 7.81 s\n"
     ]
    }
   ],
   "source": [
    "%%time\n",
    "\n",
    "gp = [lat, lon, elev]\n",
    "\n",
    "p = sg2.sun_position([gp], df.index.values,\n",
    "                     [\"geoc.EOT\",\n",
    "                      \"topoc.omega\",\n",
    "                      \"topoc.gamma_S0\",\n",
    "                      \"topoc.alpha_S\",\n",
    "                      \"topoc.delta\",\n",
    "                      \"topoc.r_alpha\",\n",
    "                      \"topoc.toa_hi\",\n",
    "                      \"topoc.toa_ni\"])\n",
    "print(p)"
   ]
  },
  {
   "cell_type": "markdown",
   "metadata": {},
   "source": [
    "Calcul des heures de lever et de coucher de soleil avec la librairie sg2.\n",
    "\n",
    "\n",
    "def sun_rise(ggeopoint, timestamp)\n",
    "- input geopoints: (N,3) of double each row is lon in degrees, lat in degrees, altitude in metter.\n",
    "  - input timespamp: (M,) of double or datetime64. the requested timestamp in ut\n",
    "  - output: (N,M,3) datetime64[ms] with repectively sun rise, sun transit and\n",
    "sun set in ut.\n",
    " "
   ]
  },
  {
   "cell_type": "code",
   "execution_count": 42,
   "metadata": {},
   "outputs": [
    {
     "data": {
      "text/plain": [
       "(14284800,)"
      ]
     },
     "execution_count": 42,
     "metadata": {},
     "output_type": "execute_result"
    }
   ],
   "source": [
    "SR=sg2.sun_rise([gp], df.index.values)\n"
   ]
  },
  {
   "cell_type": "code",
   "execution_count": 37,
   "metadata": {},
   "outputs": [
    {
     "name": "stdout",
     "output_type": "stream",
     "text": [
      "(14284800, 1, 3)\n"
     ]
    },
    {
     "data": {
      "text/plain": [
       "\"\\nSR_h \\tSS_h\\ntzinfo = pytz.timezone('utc')\\n\\ndate_begin = dt.datetime(time.min().year, 1, 1, 0, 0, tzinfo=tzinfo)\\ndate_end = dt.datetime(time.max().year, 12, 31, 23, 59, tzinfo=tzinfo)\\n\\n\\n\\nSG2 = wps.wps_SG2(location, date_begin, date_end, 1/60.)\\nSG2.head()\\n\""
      ]
     },
     "execution_count": 37,
     "metadata": {},
     "output_type": "execute_result"
    }
   ],
   "source": [
    "df = pd.DataFrame({'GHI': GHI,'BNI': BNI,'DHI':DHI}, index=time)\n",
    "p\n",
    "\n",
    "\n",
    "print(SR.shape)\n",
    "#SG2\n",
    "\n",
    "'''\n",
    "SR_h \tSS_h\n",
    "tzinfo = pytz.timezone('utc')\n",
    "\n",
    "date_begin = dt.datetime(time.min().year, 1, 1, 0, 0, tzinfo=tzinfo)\n",
    "date_end = dt.datetime(time.max().year, 12, 31, 23, 59, tzinfo=tzinfo)\n",
    "\n",
    "\n",
    "\n",
    "SG2 = wps.wps_SG2(location, date_begin, date_end, 1/60.)\n",
    "SG2.head()\n",
    "'''"
   ]
  },
  {
   "cell_type": "code",
   "execution_count": null,
   "metadata": {},
   "outputs": [],
   "source": []
  },
  {
   "cell_type": "markdown",
   "metadata": {},
   "source": [
    "\n",
    "# 4: Merge data into a single Pandas DataFrame and saving data\n",
    "***\n",
    "\n",
    "The final step is to combine the BSRN measurement time series and the sun position time series into one Pandas DataFrame."
   ]
  },
  {
   "cell_type": "code",
   "execution_count": 59,
   "metadata": {},
   "outputs": [
    {
     "name": "stdout",
     "output_type": "stream",
     "text": [
      "Wall time: 6.03 s\n"
     ]
    },
    {
     "data": {
      "text/html": [
       "<div>\n",
       "<style scoped>\n",
       "    .dataframe tbody tr th:only-of-type {\n",
       "        vertical-align: middle;\n",
       "    }\n",
       "\n",
       "    .dataframe tbody tr th {\n",
       "        vertical-align: top;\n",
       "    }\n",
       "\n",
       "    .dataframe thead th {\n",
       "        text-align: right;\n",
       "    }\n",
       "</style>\n",
       "<table border=\"1\" class=\"dataframe\">\n",
       "  <thead>\n",
       "    <tr style=\"text-align: right;\">\n",
       "      <th></th>\n",
       "      <th>GHI</th>\n",
       "      <th>BNI</th>\n",
       "      <th>DHI</th>\n",
       "      <th>DELTA</th>\n",
       "      <th>OMEGA</th>\n",
       "      <th>EOT</th>\n",
       "      <th>THETA_Z</th>\n",
       "      <th>GAMMA_S0</th>\n",
       "      <th>ALPHA_S</th>\n",
       "      <th>R</th>\n",
       "      <th>TOA</th>\n",
       "      <th>TOANI</th>\n",
       "      <th>SR_h</th>\n",
       "      <th>SS_h</th>\n",
       "    </tr>\n",
       "  </thead>\n",
       "  <tbody>\n",
       "    <tr>\n",
       "      <th>1997-05-11 00:00:00</th>\n",
       "      <td>NaN</td>\n",
       "      <td>NaN</td>\n",
       "      <td>NaN</td>\n",
       "      <td>0.311284</td>\n",
       "      <td>39946.065450</td>\n",
       "      <td>106.830024</td>\n",
       "      <td>1.903507</td>\n",
       "      <td>-0.332710</td>\n",
       "      <td>2.420489</td>\n",
       "      <td>0.836176</td>\n",
       "      <td>0.0</td>\n",
       "      <td>0.0</td>\n",
       "      <td>NaT</td>\n",
       "      <td>NaT</td>\n",
       "    </tr>\n",
       "    <tr>\n",
       "      <th>1997-05-11 00:01:00</th>\n",
       "      <td>NaN</td>\n",
       "      <td>NaN</td>\n",
       "      <td>NaN</td>\n",
       "      <td>0.311287</td>\n",
       "      <td>39946.069814</td>\n",
       "      <td>106.830024</td>\n",
       "      <td>1.903428</td>\n",
       "      <td>-0.332631</td>\n",
       "      <td>2.416095</td>\n",
       "      <td>0.836188</td>\n",
       "      <td>0.0</td>\n",
       "      <td>0.0</td>\n",
       "      <td>NaT</td>\n",
       "      <td>NaT</td>\n",
       "    </tr>\n",
       "    <tr>\n",
       "      <th>1997-05-11 00:02:00</th>\n",
       "      <td>NaN</td>\n",
       "      <td>NaN</td>\n",
       "      <td>NaN</td>\n",
       "      <td>0.311290</td>\n",
       "      <td>39946.074177</td>\n",
       "      <td>106.830024</td>\n",
       "      <td>1.903348</td>\n",
       "      <td>-0.332552</td>\n",
       "      <td>2.411701</td>\n",
       "      <td>0.836200</td>\n",
       "      <td>0.0</td>\n",
       "      <td>0.0</td>\n",
       "      <td>NaT</td>\n",
       "      <td>NaT</td>\n",
       "    </tr>\n",
       "    <tr>\n",
       "      <th>1997-05-11 00:03:00</th>\n",
       "      <td>NaN</td>\n",
       "      <td>NaN</td>\n",
       "      <td>NaN</td>\n",
       "      <td>0.311293</td>\n",
       "      <td>39946.078540</td>\n",
       "      <td>106.830024</td>\n",
       "      <td>1.903268</td>\n",
       "      <td>-0.332472</td>\n",
       "      <td>2.407308</td>\n",
       "      <td>0.836212</td>\n",
       "      <td>0.0</td>\n",
       "      <td>0.0</td>\n",
       "      <td>NaT</td>\n",
       "      <td>NaT</td>\n",
       "    </tr>\n",
       "    <tr>\n",
       "      <th>1997-05-11 00:04:00</th>\n",
       "      <td>NaN</td>\n",
       "      <td>NaN</td>\n",
       "      <td>NaN</td>\n",
       "      <td>0.311296</td>\n",
       "      <td>39946.082904</td>\n",
       "      <td>106.830025</td>\n",
       "      <td>1.903188</td>\n",
       "      <td>-0.332392</td>\n",
       "      <td>2.402914</td>\n",
       "      <td>0.836224</td>\n",
       "      <td>0.0</td>\n",
       "      <td>0.0</td>\n",
       "      <td>NaT</td>\n",
       "      <td>NaT</td>\n",
       "    </tr>\n",
       "  </tbody>\n",
       "</table>\n",
       "</div>"
      ],
      "text/plain": [
       "                     GHI  BNI  DHI     DELTA         OMEGA         EOT  \\\n",
       "1997-05-11 00:00:00  NaN  NaN  NaN  0.311284  39946.065450  106.830024   \n",
       "1997-05-11 00:01:00  NaN  NaN  NaN  0.311287  39946.069814  106.830024   \n",
       "1997-05-11 00:02:00  NaN  NaN  NaN  0.311290  39946.074177  106.830024   \n",
       "1997-05-11 00:03:00  NaN  NaN  NaN  0.311293  39946.078540  106.830024   \n",
       "1997-05-11 00:04:00  NaN  NaN  NaN  0.311296  39946.082904  106.830025   \n",
       "\n",
       "                      THETA_Z  GAMMA_S0   ALPHA_S         R  TOA  TOANI SR_h  \\\n",
       "1997-05-11 00:00:00  1.903507 -0.332710  2.420489  0.836176  0.0    0.0  NaT   \n",
       "1997-05-11 00:01:00  1.903428 -0.332631  2.416095  0.836188  0.0    0.0  NaT   \n",
       "1997-05-11 00:02:00  1.903348 -0.332552  2.411701  0.836200  0.0    0.0  NaT   \n",
       "1997-05-11 00:03:00  1.903268 -0.332472  2.407308  0.836212  0.0    0.0  NaT   \n",
       "1997-05-11 00:04:00  1.903188 -0.332392  2.402914  0.836224  0.0    0.0  NaT   \n",
       "\n",
       "                    SS_h  \n",
       "1997-05-11 00:00:00  NaT  \n",
       "1997-05-11 00:01:00  NaT  \n",
       "1997-05-11 00:02:00  NaT  \n",
       "1997-05-11 00:03:00  NaT  \n",
       "1997-05-11 00:04:00  NaT  "
      ]
     },
     "execution_count": 59,
     "metadata": {},
     "output_type": "execute_result"
    }
   ],
   "source": [
    "%%time\n",
    "df = pd.DataFrame({'GHI': GHI,\n",
    "                   'BNI': BNI,\n",
    "                   'DHI':DHI,\n",
    "                   'DELTA':np.squeeze(p.topoc.delta),\n",
    "                   'OMEGA':np.squeeze(p.topoc.omega),\n",
    "                   'EOT':np.squeeze(p.geoc.EOT),\n",
    "                   'THETA_Z':np.squeeze(np.pi/2-p.topoc.gamma_S0),\n",
    "                   'GAMMA_S0':np.squeeze(p.topoc.gamma_S0),\n",
    "                   'ALPHA_S':np.squeeze(p.topoc.alpha_S),\n",
    "                   'R':np.squeeze(p.topoc.r_alpha),\n",
    "                   'TOA':np.squeeze(p.topoc.toa_hi),\n",
    "                   'TOANI':np.squeeze(p.topoc.toa_ni),\n",
    "                   'SR_h':SR[:,0,0],\n",
    "                   'SS_h':SR[:,0,2],\n",
    "                  }, index=time)\n",
    "df.reindex(pd.date_range(date_begin, date_end, freq='1min', tz='utc'))\n",
    "\n",
    "df.head()"
   ]
  },
  {
   "cell_type": "code",
   "execution_count": 60,
   "metadata": {},
   "outputs": [
    {
     "data": {
      "text/plain": [
       "<AxesSubplot:>"
      ]
     },
     "execution_count": 60,
     "metadata": {},
     "output_type": "execute_result"
    },
    {
     "data": {
      "image/png": "[encoded data removed]",
      "text/plain": [
       "<Figure size 432x288 with 1 Axes>"
      ]
     },
     "metadata": {
      "needs_background": "light"
     },
     "output_type": "display_data"
    }
   ],
   "source": [
    "df['GHI'].plot()"
   ]
  },
  {
   "cell_type": "markdown",
   "metadata": {},
   "source": [
    "<br>\n",
    "It is possible to save a DataFrame in numerous formats. Here it is shown how to save it as a *Pandas pickle* which we use in the following tutorials."
   ]
  },
  {
   "cell_type": "code",
   "execution_count": 70,
   "metadata": {},
   "outputs": [
    {
     "name": "stdout",
     "output_type": "stream",
     "text": [
      "Wall time: 393 ms\n"
     ]
    }
   ],
   "source": [
    "#%%time\n",
    "#df.to_pickle('./tmpData/{}_data.pkl'.format(ID)) # save the DataFrame in the Pandas pickle format\n",
    "\n",
    "\n",
    "# todo: include the name and information of the station in the saved file."
   ]
  },
  {
   "cell_type": "markdown",
   "metadata": {},
   "source": [
    "<br><br>\n",
    "\n",
    "***\n",
    "Once all the data is combined into one DataFrame, manipulation and plotting become relatively easy tasks.\n",
    "\n",
    "As an example, the first month of the GHI, DHI, and BNI is plotted with the original 1 minute resolution:"
   ]
  },
  {
   "cell_type": "code",
   "execution_count": 61,
   "metadata": {},
   "outputs": [
    {
     "data": {
      "image/png": "[encoded data removed]",
      "text/plain": [
       "<Figure size 864x360 with 3 Axes>"
      ]
     },
     "metadata": {
      "needs_background": "light"
     },
     "output_type": "display_data"
    }
   ],
   "source": [
    "_ = df.loc['2015-05-01':'2016-05-01', ['GHI','DHI','BNI']].plot(figsize=(12,5), subplots=True)"
   ]
  },
  {
   "cell_type": "markdown",
   "metadata": {},
   "source": [
    "Plotting the monthly average irradiance as a bar chart, can be done in one line as well:"
   ]
  },
  {
   "cell_type": "code",
   "execution_count": 62,
   "metadata": {},
   "outputs": [
    {
     "data": {
      "image/png": "[encoded data removed]",
      "text/plain": [
       "<Figure size 864x432 with 3 Axes>"
      ]
     },
     "metadata": {
      "needs_background": "light"
     },
     "output_type": "display_data"
    }
   ],
   "source": [
    "_ = df[['GHI','DHI','BNI']].resample('1M').mean().plot(figsize=(12,6), kind='bar', subplots=True)"
   ]
  }
 ],
 "metadata": {
  "kernelspec": {
   "display_name": "Python 3 (ipykernel)",
   "language": "python",
   "name": "python3"
  },
  "language_info": {
   "codemirror_mode": {
    "name": "ipython",
    "version": 3
   },
   "file_extension": ".py",
   "mimetype": "text/x-python",
   "name": "python",
   "nbconvert_exporter": "python",
   "pygments_lexer": "ipython3",
   "version": "3.8.8"
  }
 },
 "nbformat": 4,
 "nbformat_minor": 4
}
