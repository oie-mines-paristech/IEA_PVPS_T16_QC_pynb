{
 "cells": [
  {
   "cell_type": "markdown",
   "metadata": {},
   "source": [
    "# Reading and visualizing a NetCDF file with SURFRAD solar radiation data\n",
    "\n",
    "*Date: April 29th, 2020*\n",
    "\n",
    "## Overview\n",
    "This tutorial will demonstrate how to open and manipulate a NetCDF file from a thredds data server, containing solar radiation data from the BSRN network.\n",
    "\n",
    "NetCDF is a file format for storing array oriented scientific data, such as solar radiation, temperature or aerosol optical depth. The format has a number of advantages over other common file formats, including the standardized integration of metadata allowing for the data to be self-describin and easy access of a subset of a larger dataset.\n",
    "\n",
    "## Source data\n",
    "The data in this tutorial is from the SURFRAD (https://gml.noaa.gov/grad/surfrad/), which is an American network of high quality stations measuring solar and atmospheric radiation. Currently, there are 7 stations in operation, measuring at a minimum: global horizontal irradiance, diffuse horizontal irradiance and direct normal irradiance with a 1 minute time step.\n",
    "\n",
    "SURFRAD and other data are available as NetCDF files on a thredds server hosted at [webservice-energy.org](http://webservice-energy.org). The naming conventions follow the [climate and forecast conventions](https://www.unidata.ucar.edu/software/netcdf/conventions.html) in order to be interoperable. "
   ]
  },
  {
   "cell_type": "markdown",
   "metadata": {},
   "source": [
    "# Import python modules\n",
    "***\n",
    "First import the necessary modules:"
   ]
  },
  {
   "cell_type": "code",
   "execution_count": 1,
   "metadata": {
    "ExecuteTime": {
     "end_time": "2022-05-05T13:47:39.757594Z",
     "start_time": "2022-05-05T13:47:39.751346Z"
    }
   },
   "outputs": [],
   "source": [
    "%load_ext autoreload\n",
    "%autoreload 2\n",
    "import netCDF4 as nc\n",
    "import datetime as dt\n",
    "import pandas as pd\n",
    "import numpy as np\n",
    "import sg2\n",
    "import sys\n",
    "from datetime import datetime, timedelta\n",
    "from IPython import display\n",
    "from lib.utils import *"
   ]
  },
  {
   "cell_type": "markdown",
   "metadata": {},
   "source": [
    "# Visualisation of the content of the TDS server\n",
    "\n",
    "Check the content of the catalog at the following URL :\n",
    "\n",
    "[http://tds.webservice-energy.org/thredds/catalog/surfrad-stations/catalog.html](http://tds.webservice-energy.org/thredds/catalog/surfrad-stations/catalog.html)"
   ]
  },
  {
   "cell_type": "markdown",
   "metadata": {},
   "source": [
    "# Read NetCDF file\n",
    "\n",
    "Here, we access data from the SURFRAD station \"Bondville\" from the thredds server.\n",
    "\n",
    "\n",
    "## Option 1) Manually\n",
    "\n",
    "The first option is to use the NetCDF libary to access the data over the OpenDAP protocol :"
   ]
  },
  {
   "cell_type": "code",
   "execution_count": 2,
   "metadata": {
    "ExecuteTime": {
     "end_time": "2022-05-05T13:47:40.572480Z",
     "start_time": "2022-05-05T13:47:40.543724Z"
    }
   },
   "outputs": [
    {
     "name": "stdout",
     "output_type": "stream",
     "text": [
      "<class 'netCDF4._netCDF4.Dataset'>\n",
      "root group (NETCDF3_CLASSIC data model, file format DAP2):\n",
      "    description: Archive of solar radiation networks worldwide provided by the Webservice-Energy initiative supported by MINES Paris PSL. Files are provided as NetCDF file format with the support of a Thredds Data Server.\n",
      "    title: Timeseries of NOAA's Surface Radiation Budget Network (SURFRAD) (SURFRAD)\n",
      "    keywords: meteorology, station, time, Earth Science > Atmosphere > Atmospheric Radiation > Incoming Solar Radiation, Earth Science > Atmosphere > Atmospheric Temperature > Surface Temperature > Air Temperature, Earth Science > Atmosphere > Atmospheric Pressure > Sea Level Pressure\n",
      "    keywords_vocabulary: GCMD Science Keywords\n",
      "    keywords_vocabulary_url: https://gcmd.earthdata.nasa.gov/static/kms/\n",
      "    contact: Lionel MENARD, Raphael JOLIVET, Yves-Marie SAINT-DRENAN, Philippe BLANC\n",
      "    institution:  MINES Paris PSL\n",
      "    record: Basic measurements (global irradiance, direct irradiance, diffuse irradiance, air temperature, relative humidity, pressure)\n",
      "    Network_ShortName: SURFRAD\n",
      "    Network_Name: NOAA's Surface Radiation Budget Network (SURFRAD)\n",
      "    Network_Region: USA\n",
      "    Network_TimeResolution: 1 min\n",
      "    Network_Description: https://gml.noaa.gov/grad/surfrad/sitepage.html \n",
      "    Network_References: https://doi.org/10.1175/1520-0477(1996)077<2857:TNISIS>2.0.CO;2\n",
      "    Network_License:  -\n",
      "    Network_Contact: https://gml.noaa.gov/about/contacts.html\n",
      "    Station_ID: BON\n",
      "    Station_Name: Bondville, Illinois\n",
      "    Station_Latitude: 40.05\n",
      "    Station_Longitude: -88.37\n",
      "    Station_Elevation: 213\n",
      "    Station_LocalTimeZone: UTC-05:00\n",
      "    Station_Address: 1165, County Road 500 East\n",
      "    Station_Country: United States\n",
      "    Station_KoeppenGeigerClimate: Dfa\n",
      "    Station_TimeResolution: 1\n",
      "    featureType: TimeSeries\n",
      "    cdm_data_type: TimeSeries\n",
      "    Conventions: CF-1.6\n",
      "    cdm_timeseries_variables: station_name,latitude,longitude\n",
      "    creation_time: 2022-04-13T15:56:23.468163\n",
      "    update_time: 2022-04-13T15:56:23.468163\n",
      "    Station_DataBegin: 1995-01-01\n",
      "    DODS.strlen: 10\n",
      "    DODS.dimName: ncshort\n",
      "    DODS_EXTRA.Unlimited_Dimension: time\n",
      "    dimensions(sizes): time(14284800), maxStrlen64(64)\n",
      "    variables(dimensions): |S1 station_name(maxStrlen64), float32 latitude(), float32 longitude(), float32 elevation(), int32 Time(time), float32 GHI(time), float32 DHI(time), float32 BNI(time), float32 T2(time), float32 WS(time), float32 WD(time)\n",
      "    groups: \n"
     ]
    }
   ],
   "source": [
    "# URL of the NetCDF file on a Thredds server, accessed via OpenDAP\n",
    "url = 'http://tds.webservice-energy.org/thredds/dodsC/surfrad-stations/SURFRAD-BON.nc'\n",
    "\n",
    "# Open the NetCDF file from the server (without downloading the data yet)\n",
    "data_nc = nc.Dataset(\"[FillMismatch]\"+url) \n",
    "\n",
    "# Show the meta data :\n",
    "print(data_nc)"
   ]
  },
  {
   "cell_type": "markdown",
   "metadata": {},
   "source": [
    "\n",
    "\n",
    "The NetCDF file contains several variables:"
   ]
  },
  {
   "cell_type": "code",
   "execution_count": 3,
   "metadata": {
    "ExecuteTime": {
     "end_time": "2022-05-05T13:47:40.909723Z",
     "start_time": "2022-05-05T13:47:40.903192Z"
    }
   },
   "outputs": [
    {
     "data": {
      "text/plain": [
       "dict_keys(['station_name', 'latitude', 'longitude', 'elevation', 'Time', 'GHI', 'DHI', 'BNI', 'T2', 'WS', 'WD'])"
      ]
     },
     "execution_count": 3,
     "metadata": {},
     "output_type": "execute_result"
    }
   ],
   "source": [
    "data_nc.variables.keys()"
   ]
  },
  {
   "cell_type": "markdown",
   "metadata": {},
   "source": [
    "<br>\n",
    "Each variable contains metadata describing the variable. For example, for the variable GHI, the metadata gives the fullname (Global Horizontal Irradiance), the unit (W/m$^2$) and gives a comment that \"GHI is set to 0 for SZA >= 97 deg\"."
   ]
  },
  {
   "cell_type": "code",
   "execution_count": 4,
   "metadata": {
    "ExecuteTime": {
     "end_time": "2022-05-05T13:47:41.880796Z",
     "start_time": "2022-05-05T13:47:41.864182Z"
    }
   },
   "outputs": [
    {
     "data": {
      "text/plain": [
       "<class 'netCDF4._netCDF4.Variable'>\n",
       "float32 GHI(time)\n",
       "    parameter: Short-wave downward (GLOBAL) radiation\n",
       "    long_name: Global Horizontal Irradiance\n",
       "    standard_name: surface_downwelling_shortwave_flux_in_air\n",
       "    abbreviation: SWD\n",
       "    units: W m-2\n",
       "    Range_LowerBoundary: -10.0\n",
       "    Range_UpperBoundary: 3000\n",
       "    Description: global, mean\n",
       "    least_significant_digit: 1\n",
       "    FirstData: 1997-05-11T00:00\n",
       "    LastData: 2022-02-27T23:59\n",
       "    _ChunkSizes: 1024\n",
       "unlimited dimensions: time\n",
       "current shape = (14284800,)\n",
       "filling off"
      ]
     },
     "execution_count": 4,
     "metadata": {},
     "output_type": "execute_result"
    }
   ],
   "source": [
    "data_nc.variables['GHI']"
   ]
  },
  {
   "cell_type": "markdown",
   "metadata": {},
   "source": [
    "<br>\n",
    "\n",
    "Furthermore, this dataset contains three variables related to the location of the BSRN station: latitude, longitude and elevation."
   ]
  },
  {
   "cell_type": "code",
   "execution_count": 5,
   "metadata": {
    "ExecuteTime": {
     "end_time": "2022-05-05T13:47:42.751017Z",
     "start_time": "2022-05-05T13:47:42.733635Z"
    }
   },
   "outputs": [
    {
     "name": "stdout",
     "output_type": "stream",
     "text": [
      "Latitude = 40.05° N\n",
      "Longitude = -88.37° E\n",
      "Elevation = 213.0m\n"
     ]
    }
   ],
   "source": [
    "lat  = data_nc.variables['latitude'][:]\n",
    "lon  = data_nc.variables['longitude'][:]\n",
    "elev = data_nc.variables['elevation'][:]\n",
    "print(\"Latitude = %s° N\" % lat)\n",
    "print(\"Longitude = %s° E\" % lon) \n",
    "print(\"Elevation = %sm\" % elev)"
   ]
  },
  {
   "cell_type": "markdown",
   "metadata": {},
   "source": [
    "<br>\n",
    "Next, the time series data is extracted and saved to individual variables. \n",
    "For demonstration purposes, only measurement data for the first three years are extracted."
   ]
  },
  {
   "cell_type": "code",
   "execution_count": 6,
   "metadata": {
    "ExecuteTime": {
     "end_time": "2022-05-05T13:47:54.723842Z",
     "start_time": "2022-05-05T13:47:43.806260Z"
    }
   },
   "outputs": [
    {
     "name": "stdout",
     "output_type": "stream",
     "text": [
      "CPU times: user 9.54 s, sys: 82.7 ms, total: 9.62 s\n",
      "Wall time: 10.3 s\n"
     ]
    },
    {
     "data": {
      "text/html": [
       "<div>\n",
       "<style scoped>\n",
       "    .dataframe tbody tr th:only-of-type {\n",
       "        vertical-align: middle;\n",
       "    }\n",
       "\n",
       "    .dataframe tbody tr th {\n",
       "        vertical-align: top;\n",
       "    }\n",
       "\n",
       "    .dataframe thead th {\n",
       "        text-align: right;\n",
       "    }\n",
       "</style>\n",
       "<table border=\"1\" class=\"dataframe\">\n",
       "  <thead>\n",
       "    <tr style=\"text-align: right;\">\n",
       "      <th></th>\n",
       "      <th>GHI</th>\n",
       "      <th>BNI</th>\n",
       "      <th>DHI</th>\n",
       "    </tr>\n",
       "  </thead>\n",
       "  <tbody>\n",
       "    <tr>\n",
       "      <th>2019-03-01 00:00:00</th>\n",
       "      <td>-1.3</td>\n",
       "      <td>0.4</td>\n",
       "      <td>0.1</td>\n",
       "    </tr>\n",
       "    <tr>\n",
       "      <th>2019-03-01 00:01:00</th>\n",
       "      <td>-1.3</td>\n",
       "      <td>0.4</td>\n",
       "      <td>-0.2</td>\n",
       "    </tr>\n",
       "    <tr>\n",
       "      <th>2019-03-01 00:02:00</th>\n",
       "      <td>-1.3</td>\n",
       "      <td>0.4</td>\n",
       "      <td>-0.3</td>\n",
       "    </tr>\n",
       "    <tr>\n",
       "      <th>2019-03-01 00:03:00</th>\n",
       "      <td>-1.3</td>\n",
       "      <td>0.4</td>\n",
       "      <td>-0.4</td>\n",
       "    </tr>\n",
       "    <tr>\n",
       "      <th>2019-03-01 00:04:00</th>\n",
       "      <td>-1.3</td>\n",
       "      <td>0.4</td>\n",
       "      <td>-0.4</td>\n",
       "    </tr>\n",
       "  </tbody>\n",
       "</table>\n",
       "</div>"
      ],
      "text/plain": [
       "                     GHI  BNI  DHI\n",
       "2019-03-01 00:00:00 -1.3  0.4  0.1\n",
       "2019-03-01 00:01:00 -1.3  0.4 -0.2\n",
       "2019-03-01 00:02:00 -1.3  0.4 -0.3\n",
       "2019-03-01 00:03:00 -1.3  0.4 -0.4\n",
       "2019-03-01 00:04:00 -1.3  0.4 -0.4"
      ]
     },
     "execution_count": 6,
     "metadata": {},
     "output_type": "execute_result"
    }
   ],
   "source": [
    "%%time\n",
    "\n",
    "NB_SAMPLES=60*24*365*3 # 3 years of data\n",
    "\n",
    "# Loading and convert the time vector \n",
    "time=pd.to_datetime(\n",
    "    data_nc.variables['Time'][-NB_SAMPLES:], unit='s', origin=pd.Timestamp('1970-01-01'))\n",
    "\n",
    "# Download measurements of the three components of the solar irradiance\n",
    "GHI = data_nc.variables['GHI'][-NB_SAMPLES:].filled(np.nan)\n",
    "DHI = data_nc.variables['DHI'][-NB_SAMPLES:].filled(np.nan)\n",
    "BNI = data_nc.variables['BNI'][-NB_SAMPLES:].filled(np.nan)\n",
    "\n",
    "# Build a Pandas Dataframe\n",
    "data = pd.DataFrame({'GHI': GHI,'BNI': BNI,'DHI':DHI}, index=time)\n",
    "\n",
    "# Show first values\n",
    "data.head()"
   ]
  },
  {
   "cell_type": "markdown",
   "metadata": {
    "ExecuteTime": {
     "end_time": "2022-05-05T10:15:09.740330Z",
     "start_time": "2022-05-05T10:15:09.732910Z"
    }
   },
   "source": [
    "## Option 2) Use `libinsitu`\n",
    "\n",
    "We developped [libinsitu](https://git.sophia.mines-paristech.fr/oie/libinsitu), a library providing several utils to read and manipulate NetCDF files for in situ data.\n",
    "\n",
    "This library provides the function [`nc2df()`](https://git.sophia.mines-paristech.fr/oie/libinsitu#nc2df) that automize all the steps above to read NetCDF data into a Panda Dataframe :"
   ]
  },
  {
   "cell_type": "code",
   "execution_count": 7,
   "metadata": {
    "ExecuteTime": {
     "end_time": "2022-05-05T13:48:58.301833Z",
     "start_time": "2022-05-05T13:48:57.126309Z"
    }
   },
   "outputs": [],
   "source": [
    "from libinsitu.common import nc2df\n",
    "\n",
    "start = datetime.now() - timedelta(days=365*3)\n",
    "\n",
    "# Load data over OpenDAP into a pandas DataFrame\n",
    "# 'url' is defined in the section above \n",
    "data = nc2df(url, vars=[\"GHI\", \"DHI\", \"BNI\"], start_time=start, drop_duplicates=True)"
   ]
  },
  {
   "cell_type": "code",
   "execution_count": 8,
   "metadata": {
    "ExecuteTime": {
     "end_time": "2022-05-05T13:48:59.442869Z",
     "start_time": "2022-05-05T13:48:59.423897Z"
    }
   },
   "outputs": [
    {
     "name": "stdout",
     "output_type": "stream",
     "text": [
      "{'description': 'Archive of solar radiation networks worldwide provided by the Webservice-Energy initiative supported by MINES Paris PSL. Files are provided as NetCDF file format with the support of a Thredds Data Server.', 'title': \"Timeseries of NOAA's Surface Radiation Budget Network (SURFRAD) (SURFRAD)\", 'keywords': 'meteorology, station, time, Earth Science > Atmosphere > Atmospheric Radiation > Incoming Solar Radiation, Earth Science > Atmosphere > Atmospheric Temperature > Surface Temperature > Air Temperature, Earth Science > Atmosphere > Atmospheric Pressure > Sea Level Pressure', 'keywords_vocabulary': 'GCMD Science Keywords', 'keywords_vocabulary_url': 'https://gcmd.earthdata.nasa.gov/static/kms/', 'contact': 'Lionel MENARD, Raphael JOLIVET, Yves-Marie SAINT-DRENAN, Philippe BLANC', 'institution': ' MINES Paris PSL', 'record': 'Basic measurements (global irradiance, direct irradiance, diffuse irradiance, air temperature, relative humidity, pressure)', 'Network_ShortName': 'SURFRAD', 'Network_Name': \"NOAA's Surface Radiation Budget Network (SURFRAD)\", 'Network_Region': 'USA', 'Network_TimeResolution': '1 min', 'Network_Description': 'https://gml.noaa.gov/grad/surfrad/sitepage.html ', 'Network_References': 'https://doi.org/10.1175/1520-0477(1996)077<2857:TNISIS>2.0.CO;2', 'Network_License': ' -', 'Network_Contact': 'https://gml.noaa.gov/about/contacts.html', 'Station_ID': 'BON', 'Station_Name': 'Bondville, Illinois', 'Station_Latitude': '40.05', 'Station_Longitude': '-88.37', 'Station_Elevation': '213', 'Station_LocalTimeZone': 'UTC-05:00', 'Station_Address': '1165, County Road 500 East', 'Station_Country': 'United States', 'Station_KoeppenGeigerClimate': 'Dfa', 'Station_TimeResolution': '1', 'featureType': 'TimeSeries', 'cdm_data_type': 'TimeSeries', 'Conventions': 'CF-1.6', 'cdm_timeseries_variables': 'station_name,latitude,longitude', 'creation_time': '2022-04-13T15:56:23.468163', 'update_time': '2022-04-13T15:56:23.468163', 'Station_DataBegin': '1995-01-01', 'DODS.strlen': 10, 'DODS.dimName': 'ncshort', 'DODS_EXTRA.Unlimited_Dimension': 'time'}\n",
      "                            GHI         DHI         BNI\n",
      "2019-05-06 17:21:00  644.500000  490.100006  151.100006\n",
      "2019-05-06 17:22:00  673.400024  490.500000  182.800003\n",
      "2019-05-06 17:23:00         NaN  487.000000  138.199997\n",
      "2019-05-06 17:24:00         NaN  484.500000  107.000000\n",
      "2019-05-06 17:25:00  675.799988  487.399994  190.199997\n"
     ]
    }
   ],
   "source": [
    "# Meta data is attached to the resulting dataframe\n",
    "print(data.attrs)\n",
    "\n",
    "# libinsitu took care of transforming the time series, replacing missing vals by Nans\n",
    "print(data.head())"
   ]
  },
  {
   "cell_type": "markdown",
   "metadata": {},
   "source": [
    "# 3: Calculation of sun position\n",
    "***\n",
    "\n",
    "In this tutorial, the sun position will be calculated using the wps_SG2 webservice available through the python package *solargeometry*. A request is sent to the webservice, which carries out the calculations and returns the results. For longer time series, this method is significantly faster than calculating the sun position locally using, for example, the pvlib-python library.\n",
    "\n",
    "\n",
    "output\n",
    "    The output is a python list of fields identified by python strings.  Each\n",
    "    given fields will be computed and provided in the output o as follow :\n",
    "    *\"field.name\"* will be *o.field.name*.  Possible fields and there output\n",
    "    type are:\n",
    "\n",
    "    * \"geoc.ut\" **timestamp** as array of datetime64[ms]\n",
    "    * \"geoc.tt\" **terrestrial time** as array of datetime64[ms]\n",
    "    * \"geoc.R\" **Radius Sun-Earth** in astronomical unit (au) as array of double\n",
    "    * \"geoc.L\" **Heliocentric Earth true longitude** in radians as array of double\n",
    "    * \"geoc.delta\" **Geocentric declination** in radians as array of double\n",
    "    * \"geoc.EOT\" **Equation of Time: difference between apparent solar time and mean solar time** in radians as array of double (to be multiplied by pi/12 for hourly values)\n",
    "    * \"geoc.Theta_a\" **Geocentric Earth true longitude** in radians as array of double\n",
    "    * \"geoc.epsilon\" **Earth true obliquity** in radians as array of double\n",
    "    * \"geoc.nu\" **Apparent sideral time** in radians as array of double\n",
    "    * \"geoc.r_alpha\" **Geocentric right ascension** in radians as array of double\n",
    "    * \"geoc.Delta_psi\" **Nutation in Geocentric Sun longitude** in radians as array of double\n",
    "    * \"gp.lambda\" **Longitude** in radians as array of double\n",
    "    * \"gp.phi\" **Latitude** in radians as array of double\n",
    "    * \"gp.u\" **phi geocentric**\n",
    "    * \"gp.x\"\n",
    "    * \"gp.y\"\n",
    "    * \"topoc.delta\" **Topocentric sun declination** in radians as array of double\n",
    "    * \"topoc.alpha_S\" **Topocentric sun azimuth** in radians as array of double\n",
    "    * \"topoc.gamma_S0\" **Topocentric sun elevation angle without correction of atm. refraction.** in radians as array of double\n",
    "    * \"topoc.omega\" **Topocentric local hour angle** in radians as array of double\n",
    "    * \"topoc.r_alpha\" **Topocentric right sun ascension** in radians as array of double\n",
    "    * \"topoc.toa_hi\" **Top of atmosphere horizontal irradiance** in W.m^{-2} as array of double\n",
    "    * \"topoc.toa_ni\" **Top of atmosphere normal irradiance** in W.m^{-2} as array of double\n",
    "\n",
    "    The abreviations geoc and topoc stand for respectively geocentric and topocentric.\n",
    "\n",
    "    Moreover the size of arrays of geoc.* fields will be (M,), the size of\n",
    "    arrays of gp.* fields will be (N,) and the size of arrays of topoc.* will\n",
    "    be (N,M).\n",
    "\n",
    "\n",
    "This library can be installed via pip:  \"pip install sg2 -f https://pip.oie-lab.net/python-devel/ \"\n"
   ]
  },
  {
   "cell_type": "code",
   "execution_count": 9,
   "metadata": {
    "ExecuteTime": {
     "end_time": "2022-05-05T13:49:02.411676Z",
     "start_time": "2022-05-05T13:49:01.698410Z"
    }
   },
   "outputs": [
    {
     "name": "stdout",
     "output_type": "stream",
     "text": [
      "namespace(geoc=namespace(EOT=array([245.05889599, 245.0588962 , 245.05889642, ..., 263.83887605,\n",
      "       263.8388766 , 263.83887715])), gp=namespace(), topoc=namespace(alpha_S=array([[4.17638793, 4.17200626, 4.16762444, ..., 2.51279869, 2.50844836,\n",
      "        2.50409799]]), delta=array([[ 0.2896983 ,  0.28970169,  0.28970508, ..., -0.1405939 ,\n",
      "        -0.14058932, -0.14058475]]), gamma_S0=array([[-0.30431925, -0.30442921, -0.30453889, ...,  0.11760394,\n",
      "         0.11767259,  0.11774168]]), omega=array([[90542.81454369, 90542.81890723, 90542.82327076, ...,\n",
      "        97022.43689043, 97022.4412543 , 97022.44561817]]), r_alpha=array([[ 0.75810646,  0.75811819,  0.75812993, ..., -0.33265966,\n",
      "        -0.33264826, -0.33263686]]), toa_hi=array([[  0.        ,   0.        ,   0.        , ..., 162.89569924,\n",
      "        162.99029448, 163.08548908]]), toa_ni=array([[   0.        ,    0.        ,    0.        , ..., 1388.31912959,\n",
      "        1388.31865731, 1388.31818502]])))\n"
     ]
    }
   ],
   "source": [
    "gp = [lat, lon, elev]\n",
    "\n",
    "p = sg2.sun_position([gp], data.index.values,\n",
    "                     [\"geoc.EOT\",\n",
    "                      \"topoc.omega\",\n",
    "                      \"topoc.gamma_S0\",\n",
    "                      \"topoc.alpha_S\",\n",
    "                      \"topoc.delta\",\n",
    "                      \"topoc.r_alpha\",\n",
    "                      \"topoc.toa_hi\",\n",
    "                      \"topoc.toa_ni\"])\n",
    "print(p)"
   ]
  },
  {
   "cell_type": "markdown",
   "metadata": {},
   "source": [
    "Computation of sun rise and sunset with `sg2`.\n",
    "\n",
    "\n",
    "def sun_rise(ggeopoint, timestamp)\n",
    "- input geopoints: (N,3) of double each row is lon in degrees, lat in degrees, altitude in metter.\n",
    "  - input timespamp: (M,) of double or datetime64. the requested timestamp in ut\n",
    "  - output: (N,M,3) datetime64[ms] with repectively sun rise, sun transit and\n",
    "sun set in ut."
   ]
  },
  {
   "cell_type": "code",
   "execution_count": 10,
   "metadata": {
    "ExecuteTime": {
     "end_time": "2022-05-05T13:49:50.731382Z",
     "start_time": "2022-05-05T13:49:49.627680Z"
    }
   },
   "outputs": [
    {
     "name": "stdout",
     "output_type": "stream",
     "text": [
      "(1480719, 1, 3)\n"
     ]
    }
   ],
   "source": [
    "SR=sg2.sun_rise([gp], data.index.values)\n",
    "print(SR.shape)"
   ]
  },
  {
   "cell_type": "markdown",
   "metadata": {},
   "source": [
    "# Merge and save data\n",
    "\n",
    "The final step is to combine the measurement time series and the sun position time series into one Pandas DataFrame."
   ]
  },
  {
   "cell_type": "code",
   "execution_count": 11,
   "metadata": {
    "ExecuteTime": {
     "end_time": "2022-05-05T13:55:27.665026Z",
     "start_time": "2022-05-05T13:55:27.592230Z"
    }
   },
   "outputs": [
    {
     "data": {
      "text/html": [
       "<div>\n",
       "<style scoped>\n",
       "    .dataframe tbody tr th:only-of-type {\n",
       "        vertical-align: middle;\n",
       "    }\n",
       "\n",
       "    .dataframe tbody tr th {\n",
       "        vertical-align: top;\n",
       "    }\n",
       "\n",
       "    .dataframe thead th {\n",
       "        text-align: right;\n",
       "    }\n",
       "</style>\n",
       "<table border=\"1\" class=\"dataframe\">\n",
       "  <thead>\n",
       "    <tr style=\"text-align: right;\">\n",
       "      <th></th>\n",
       "      <th>GHI</th>\n",
       "      <th>BNI</th>\n",
       "      <th>DHI</th>\n",
       "      <th>DELTA</th>\n",
       "      <th>OMEGA</th>\n",
       "      <th>EOT</th>\n",
       "      <th>THETA_Z</th>\n",
       "      <th>GAMMA_S0</th>\n",
       "      <th>ALPHA_S</th>\n",
       "      <th>R</th>\n",
       "      <th>TOA</th>\n",
       "      <th>TOANI</th>\n",
       "      <th>SR_h</th>\n",
       "      <th>SS_h</th>\n",
       "    </tr>\n",
       "  </thead>\n",
       "  <tbody>\n",
       "    <tr>\n",
       "      <th>2019-05-06 17:21:00</th>\n",
       "      <td>644.500000</td>\n",
       "      <td>151.100006</td>\n",
       "      <td>490.100006</td>\n",
       "      <td>0.289698</td>\n",
       "      <td>90542.814544</td>\n",
       "      <td>245.058896</td>\n",
       "      <td>1.875116</td>\n",
       "      <td>-0.304319</td>\n",
       "      <td>4.176388</td>\n",
       "      <td>0.758106</td>\n",
       "      <td>0.0</td>\n",
       "      <td>0.0</td>\n",
       "      <td>NaT</td>\n",
       "      <td>NaT</td>\n",
       "    </tr>\n",
       "    <tr>\n",
       "      <th>2019-05-06 17:22:00</th>\n",
       "      <td>673.400024</td>\n",
       "      <td>182.800003</td>\n",
       "      <td>490.500000</td>\n",
       "      <td>0.289702</td>\n",
       "      <td>90542.818907</td>\n",
       "      <td>245.058896</td>\n",
       "      <td>1.875226</td>\n",
       "      <td>-0.304429</td>\n",
       "      <td>4.172006</td>\n",
       "      <td>0.758118</td>\n",
       "      <td>0.0</td>\n",
       "      <td>0.0</td>\n",
       "      <td>NaT</td>\n",
       "      <td>NaT</td>\n",
       "    </tr>\n",
       "    <tr>\n",
       "      <th>2019-05-06 17:23:00</th>\n",
       "      <td>NaN</td>\n",
       "      <td>138.199997</td>\n",
       "      <td>487.000000</td>\n",
       "      <td>0.289705</td>\n",
       "      <td>90542.823271</td>\n",
       "      <td>245.058896</td>\n",
       "      <td>1.875335</td>\n",
       "      <td>-0.304539</td>\n",
       "      <td>4.167624</td>\n",
       "      <td>0.758130</td>\n",
       "      <td>0.0</td>\n",
       "      <td>0.0</td>\n",
       "      <td>NaT</td>\n",
       "      <td>NaT</td>\n",
       "    </tr>\n",
       "    <tr>\n",
       "      <th>2019-05-06 17:24:00</th>\n",
       "      <td>NaN</td>\n",
       "      <td>107.000000</td>\n",
       "      <td>484.500000</td>\n",
       "      <td>0.289708</td>\n",
       "      <td>90542.827634</td>\n",
       "      <td>245.058897</td>\n",
       "      <td>1.875445</td>\n",
       "      <td>-0.304648</td>\n",
       "      <td>4.163242</td>\n",
       "      <td>0.758142</td>\n",
       "      <td>0.0</td>\n",
       "      <td>0.0</td>\n",
       "      <td>NaT</td>\n",
       "      <td>NaT</td>\n",
       "    </tr>\n",
       "    <tr>\n",
       "      <th>2019-05-06 17:25:00</th>\n",
       "      <td>675.799988</td>\n",
       "      <td>190.199997</td>\n",
       "      <td>487.399994</td>\n",
       "      <td>0.289712</td>\n",
       "      <td>90542.831998</td>\n",
       "      <td>245.058897</td>\n",
       "      <td>1.875554</td>\n",
       "      <td>-0.304757</td>\n",
       "      <td>4.158860</td>\n",
       "      <td>0.758153</td>\n",
       "      <td>0.0</td>\n",
       "      <td>0.0</td>\n",
       "      <td>NaT</td>\n",
       "      <td>NaT</td>\n",
       "    </tr>\n",
       "  </tbody>\n",
       "</table>\n",
       "</div>"
      ],
      "text/plain": [
       "                            GHI         BNI         DHI     DELTA  \\\n",
       "2019-05-06 17:21:00  644.500000  151.100006  490.100006  0.289698   \n",
       "2019-05-06 17:22:00  673.400024  182.800003  490.500000  0.289702   \n",
       "2019-05-06 17:23:00         NaN  138.199997  487.000000  0.289705   \n",
       "2019-05-06 17:24:00         NaN  107.000000  484.500000  0.289708   \n",
       "2019-05-06 17:25:00  675.799988  190.199997  487.399994  0.289712   \n",
       "\n",
       "                            OMEGA         EOT   THETA_Z  GAMMA_S0   ALPHA_S  \\\n",
       "2019-05-06 17:21:00  90542.814544  245.058896  1.875116 -0.304319  4.176388   \n",
       "2019-05-06 17:22:00  90542.818907  245.058896  1.875226 -0.304429  4.172006   \n",
       "2019-05-06 17:23:00  90542.823271  245.058896  1.875335 -0.304539  4.167624   \n",
       "2019-05-06 17:24:00  90542.827634  245.058897  1.875445 -0.304648  4.163242   \n",
       "2019-05-06 17:25:00  90542.831998  245.058897  1.875554 -0.304757  4.158860   \n",
       "\n",
       "                            R  TOA  TOANI SR_h SS_h  \n",
       "2019-05-06 17:21:00  0.758106  0.0    0.0  NaT  NaT  \n",
       "2019-05-06 17:22:00  0.758118  0.0    0.0  NaT  NaT  \n",
       "2019-05-06 17:23:00  0.758130  0.0    0.0  NaT  NaT  \n",
       "2019-05-06 17:24:00  0.758142  0.0    0.0  NaT  NaT  \n",
       "2019-05-06 17:25:00  0.758153  0.0    0.0  NaT  NaT  "
      ]
     },
     "execution_count": 11,
     "metadata": {},
     "output_type": "execute_result"
    }
   ],
   "source": [
    "out = pd.DataFrame({'GHI': data.GHI,\n",
    "                   'BNI': data.BNI,\n",
    "                   'DHI': data.DHI,\n",
    "                   'DELTA':np.squeeze(p.topoc.delta),\n",
    "                   'OMEGA':np.squeeze(p.topoc.omega),\n",
    "                   'EOT':np.squeeze(p.geoc.EOT),\n",
    "                   'THETA_Z':np.squeeze(np.pi/2-p.topoc.gamma_S0),\n",
    "                   'GAMMA_S0':np.squeeze(p.topoc.gamma_S0),\n",
    "                   'ALPHA_S':np.squeeze(p.topoc.alpha_S),\n",
    "                   'R':np.squeeze(p.topoc.r_alpha),\n",
    "                   'TOA':np.squeeze(p.topoc.toa_hi),\n",
    "                   'TOANI':np.squeeze(p.topoc.toa_ni),\n",
    "                   'SR_h':SR[:,0,0],\n",
    "                   'SS_h':SR[:,0,2],\n",
    "                  }, index=data.index.values)\n",
    "out.head()"
   ]
  },
  {
   "cell_type": "code",
   "execution_count": 12,
   "metadata": {},
   "outputs": [],
   "source": [
    "# Copy meta data into merged dataframe\n",
    "out.attrs = data.attrs"
   ]
  },
  {
   "cell_type": "markdown",
   "metadata": {},
   "source": [
    "It is possible to save Dataframes into various formats.\n",
    "Here we choose \"Parquet\" format. A compact and portable format :"
   ]
  },
  {
   "cell_type": "code",
   "execution_count": 13,
   "metadata": {
    "ExecuteTime": {
     "end_time": "2022-05-05T13:55:38.502489Z",
     "start_time": "2022-05-05T13:55:37.951663Z"
    }
   },
   "outputs": [
    {
     "name": "stdout",
     "output_type": "stream",
     "text": [
      "./tmpData/data.parquet\n",
      "./tmpData/data.meta\n"
     ]
    }
   ],
   "source": [
    "# Save data to parquet file\n",
    "print(TMP_FILE)\n",
    "out.to_parquet(TMP_FILE)\n",
    "\n",
    "# Save meta data to json file\n",
    "print(META_FILE)\n",
    "save_meta(out, META_FILE)"
   ]
  },
  {
   "cell_type": "markdown",
   "metadata": {
    "ExecuteTime": {
     "end_time": "2022-05-05T13:56:05.102950Z",
     "start_time": "2022-05-05T13:56:05.095498Z"
    }
   },
   "source": [
    "# Plots\n",
    "\n",
    "Once all the data is combined into one DataFrame, manipulation and plotting become relatively easy tasks.\n",
    "\n",
    "## Raw time series\n",
    "\n",
    "The first month of the GHI, DHI, and BNI is plotted with the original 1 minute resolution:"
   ]
  },
  {
   "cell_type": "code",
   "execution_count": 14,
   "metadata": {
    "ExecuteTime": {
     "end_time": "2022-05-05T13:59:04.547102Z",
     "start_time": "2022-05-05T13:59:03.707566Z"
    }
   },
   "outputs": [
    {
     "data": {
      "image/png": "[encoded data removed]",
      "text/plain": [
       "<Figure size 864x360 with 3 Axes>"
      ]
     },
     "metadata": {
      "needs_background": "light"
     },
     "output_type": "display_data"
    }
   ],
   "source": [
    "_ = out.iloc[0:30*60*24][[\"GHI\", \"DHI\", \"BNI\"]].plot(figsize=(12,5), subplots=True)"
   ]
  },
  {
   "cell_type": "markdown",
   "metadata": {},
   "source": [
    "## Monthly average\n",
    "\n",
    "Here, we plot the monthly average irradiance as a bar chart, can be done in one line as well:"
   ]
  },
  {
   "cell_type": "code",
   "execution_count": 15,
   "metadata": {
    "ExecuteTime": {
     "end_time": "2022-05-05T14:00:20.442944Z",
     "start_time": "2022-05-05T14:00:19.857291Z"
    }
   },
   "outputs": [
    {
     "data": {
      "image/png": "[encoded data removed]",
      "text/plain": [
       "<Figure size 864x432 with 3 Axes>"
      ]
     },
     "metadata": {
      "needs_background": "light"
     },
     "output_type": "display_data"
    }
   ],
   "source": [
    "_ = out[['GHI','DHI','BNI']].resample('1M').mean().plot(figsize=(12,6), kind='bar', subplots=True)"
   ]
  },
  {
   "cell_type": "code",
   "execution_count": null,
   "metadata": {},
   "outputs": [],
   "source": []
  }
 ],
 "metadata": {
  "kernelspec": {
   "display_name": "Python 3 (ipykernel)",
   "language": "python",
   "name": "python3"
  },
  "language_info": {
   "codemirror_mode": {
    "name": "ipython",
    "version": 3
   },
   "file_extension": ".py",
   "mimetype": "text/x-python",
   "name": "python",
   "nbconvert_exporter": "python",
   "pygments_lexer": "ipython3",
   "version": "3.7.13"
  },
  "toc": {
   "base_numbering": 1,
   "nav_menu": {},
   "number_sections": true,
   "sideBar": true,
   "skip_h1_title": false,
   "title_cell": "Table of Contents",
   "title_sidebar": "Contents",
   "toc_cell": false,
   "toc_position": {},
   "toc_section_display": true,
   "toc_window_display": true
  },
  "toc-autonumbering": true,
  "varInspector": {
   "cols": {
    "lenName": 16,
    "lenType": 16,
    "lenVar": 40
   },
   "kernels_config": {
    "python": {
     "delete_cmd_postfix": "",
     "delete_cmd_prefix": "del ",
     "library": "var_list.py",
     "varRefreshCmd": "print(var_dic_list())"
    },
    "r": {
     "delete_cmd_postfix": ") ",
     "delete_cmd_prefix": "rm(",
     "library": "var_list.r",
     "varRefreshCmd": "cat(var_dic_list()) "
    }
   },
   "types_to_exclude": [
    "module",
    "function",
    "builtin_function_or_method",
    "instance",
    "_Feature"
   ],
   "window_display": false
  }
 },
 "nbformat": 4,
 "nbformat_minor": 4
}
